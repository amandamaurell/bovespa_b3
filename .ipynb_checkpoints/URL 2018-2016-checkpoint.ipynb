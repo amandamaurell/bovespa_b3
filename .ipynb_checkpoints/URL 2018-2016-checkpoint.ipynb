{
 "cells": [
  {
   "cell_type": "code",
   "execution_count": 1,
   "metadata": {},
   "outputs": [],
   "source": [
    "import pandas as pd\n",
    "import re\n",
    "import requests\n",
    "from bs4 import BeautifulSoup as bsp\n",
    "from selenium import webdriver\n",
    "from selenium.webdriver.support.ui import WebDriverWait\n",
    "import chromedriver_binary"
   ]
  },
  {
   "cell_type": "code",
   "execution_count": 2,
   "metadata": {},
   "outputs": [
    {
     "data": {
      "text/html": [
       "<div>\n",
       "<style scoped>\n",
       "    .dataframe tbody tr th:only-of-type {\n",
       "        vertical-align: middle;\n",
       "    }\n",
       "\n",
       "    .dataframe tbody tr th {\n",
       "        vertical-align: top;\n",
       "    }\n",
       "\n",
       "    .dataframe thead th {\n",
       "        text-align: right;\n",
       "    }\n",
       "</style>\n",
       "<table border=\"1\" class=\"dataframe\">\n",
       "  <thead>\n",
       "    <tr style=\"text-align: right;\">\n",
       "      <th></th>\n",
       "      <th>code</th>\n",
       "    </tr>\n",
       "  </thead>\n",
       "  <tbody>\n",
       "    <tr>\n",
       "      <th>0</th>\n",
       "      <td>25291</td>\n",
       "    </tr>\n",
       "    <tr>\n",
       "      <th>1</th>\n",
       "      <td>16284</td>\n",
       "    </tr>\n",
       "  </tbody>\n",
       "</table>\n",
       "</div>"
      ],
      "text/plain": [
       "    code\n",
       "0  25291\n",
       "1  16284"
      ]
     },
     "execution_count": 2,
     "metadata": {},
     "output_type": "execute_result"
    }
   ],
   "source": [
    "codigos = pd.read_csv('codigos_cvm.csv')\n",
    "codigos.head(2)"
   ]
  },
  {
   "cell_type": "code",
   "execution_count": 3,
   "metadata": {},
   "outputs": [
    {
     "data": {
      "text/plain": [
       "434"
      ]
     },
     "execution_count": 3,
     "metadata": {},
     "output_type": "execute_result"
    }
   ],
   "source": [
    "len(codigos)"
   ]
  },
  {
   "cell_type": "code",
   "execution_count": 9,
   "metadata": {
    "scrolled": false
   },
   "outputs": [],
   "source": [
    "companies = {}\n",
    "for i in codigos['code'][0:110]:\n",
    "    url = f'http://bvmf.bmfbovespa.com.br/cias-listadas/empresas-listadas/HistoricoFormularioReferencia.aspx?codigoCVM={i}&tipo=itr&ano=0&idioma=pt-br'\n",
    "    response = requests.get(url)\n",
    "    soup = bsp(response.content, \"html.parser\")\n",
    "    content_one = soup.find('div', id='ctl00_contentPlaceHolderConteudo_divDemonstrativo')\n",
    "    if content_one == None:\n",
    "        continue\n",
    "    else:\n",
    "        code_list = content_one.find_all('a')\n",
    "        name = soup.find('span', id='ctl00_contentPlaceHolderConteudo_MenuEmpresasListadas1_lblNomeEmpresa').string\n",
    "        companies[name] = []\n",
    "        for i in code_list[:17]:\n",
    "            companies[name].append(i.get('href').lstrip(\"javascript:AbreFormularioCadastral('\").rstrip(\"')\"))"
   ]
  },
  {
   "cell_type": "code",
   "execution_count": 10,
   "metadata": {},
   "outputs": [],
   "source": [
    "for i in codigos['code'][110:220]:\n",
    "    url = f'http://bvmf.bmfbovespa.com.br/cias-listadas/empresas-listadas/HistoricoFormularioReferencia.aspx?codigoCVM={i}&tipo=itr&ano=0&idioma=pt-br'\n",
    "    response = requests.get(url)\n",
    "    soup = bsp(response.content, \"html.parser\")\n",
    "    content_one = soup.find('div', id='ctl00_contentPlaceHolderConteudo_divDemonstrativo')\n",
    "    if content_one == None:\n",
    "        continue\n",
    "    else:\n",
    "        code_list = content_one.find_all('a')\n",
    "        name = soup.find('span', id='ctl00_contentPlaceHolderConteudo_MenuEmpresasListadas1_lblNomeEmpresa').string\n",
    "        companies[name] = []\n",
    "        for i in code_list[:17]:\n",
    "            companies[name].append(i.get('href').lstrip(\"javascript:AbreFormularioCadastral('\").rstrip(\"')\"))"
   ]
  },
  {
   "cell_type": "code",
   "execution_count": 11,
   "metadata": {},
   "outputs": [],
   "source": [
    "for i in codigos['code'][220:330]:\n",
    "    url = f'http://bvmf.bmfbovespa.com.br/cias-listadas/empresas-listadas/HistoricoFormularioReferencia.aspx?codigoCVM={i}&tipo=itr&ano=0&idioma=pt-br'\n",
    "    response = requests.get(url)\n",
    "    soup = bsp(response.content, \"html.parser\")\n",
    "    content_one = soup.find('div', id='ctl00_contentPlaceHolderConteudo_divDemonstrativo')\n",
    "    if content_one == None:\n",
    "        continue\n",
    "    else:\n",
    "        code_list = content_one.find_all('a')\n",
    "        name = soup.find('span', id='ctl00_contentPlaceHolderConteudo_MenuEmpresasListadas1_lblNomeEmpresa').string\n",
    "        companies[name] = []\n",
    "        for i in code_list[:17]:\n",
    "            companies[name].append(i.get('href').lstrip(\"javascript:AbreFormularioCadastral('\").rstrip(\"')\"))"
   ]
  },
  {
   "cell_type": "code",
   "execution_count": 12,
   "metadata": {},
   "outputs": [],
   "source": [
    "for i in codigos['code'][330:]:\n",
    "    url = f'http://bvmf.bmfbovespa.com.br/cias-listadas/empresas-listadas/HistoricoFormularioReferencia.aspx?codigoCVM={i}&tipo=itr&ano=0&idioma=pt-br'\n",
    "    response = requests.get(url)\n",
    "    soup = bsp(response.content, \"html.parser\")\n",
    "    content_one = soup.find('div', id='ctl00_contentPlaceHolderConteudo_divDemonstrativo')\n",
    "    if content_one == None:\n",
    "        continue\n",
    "    else:\n",
    "        code_list = content_one.find_all('a')\n",
    "        name = soup.find('span', id='ctl00_contentPlaceHolderConteudo_MenuEmpresasListadas1_lblNomeEmpresa').string\n",
    "        companies[name] = []\n",
    "        for i in code_list[:17]:\n",
    "            companies[name].append(i.get('href').lstrip(\"javascript:AbreFormularioCadastral('\").rstrip(\"')\"))"
   ]
  },
  {
   "cell_type": "code",
   "execution_count": 13,
   "metadata": {},
   "outputs": [
    {
     "data": {
      "text/plain": [
       "272"
      ]
     },
     "execution_count": 13,
     "metadata": {},
     "output_type": "execute_result"
    }
   ],
   "source": [
    "len(companies.keys())"
   ]
  },
  {
   "cell_type": "code",
   "execution_count": 6,
   "metadata": {},
   "outputs": [],
   "source": [
    "new_urls = pd.DataFrame(dict([ (k,pd.Series(v)) for k,v in companies.items() ])).T"
   ]
  },
  {
   "cell_type": "code",
   "execution_count": 7,
   "metadata": {},
   "outputs": [
    {
     "data": {
      "text/plain": [
       "0      0\n",
       "1      0\n",
       "2      0\n",
       "3      6\n",
       "4     15\n",
       "5     15\n",
       "6     19\n",
       "7     20\n",
       "8     21\n",
       "9     21\n",
       "10    23\n",
       "11    23\n",
       "12    26\n",
       "13    29\n",
       "14    33\n",
       "15    34\n",
       "16    35\n",
       "dtype: int64"
      ]
     },
     "execution_count": 7,
     "metadata": {},
     "output_type": "execute_result"
    }
   ],
   "source": [
    "new_urls.isnull().sum()"
   ]
  },
  {
   "cell_type": "code",
   "execution_count": 8,
   "metadata": {},
   "outputs": [],
   "source": [
    "new_urls.to_excel('Urls_2018-2016.xlsx', index=True)"
   ]
  },
  {
   "cell_type": "code",
   "execution_count": null,
   "metadata": {},
   "outputs": [],
   "source": []
  }
 ],
 "metadata": {
  "kernelspec": {
   "display_name": "Python 3",
   "language": "python",
   "name": "python3"
  },
  "language_info": {
   "codemirror_mode": {
    "name": "ipython",
    "version": 3
   },
   "file_extension": ".py",
   "mimetype": "text/x-python",
   "name": "python",
   "nbconvert_exporter": "python",
   "pygments_lexer": "ipython3",
   "version": "3.7.7"
  },
  "toc": {
   "base_numbering": 1,
   "nav_menu": {},
   "number_sections": true,
   "sideBar": true,
   "skip_h1_title": false,
   "title_cell": "Table of Contents",
   "title_sidebar": "Contents",
   "toc_cell": false,
   "toc_position": {},
   "toc_section_display": true,
   "toc_window_display": false
  },
  "varInspector": {
   "cols": {
    "lenName": 16,
    "lenType": 16,
    "lenVar": 40
   },
   "kernels_config": {
    "python": {
     "delete_cmd_postfix": "",
     "delete_cmd_prefix": "del ",
     "library": "var_list.py",
     "varRefreshCmd": "print(var_dic_list())"
    },
    "r": {
     "delete_cmd_postfix": ") ",
     "delete_cmd_prefix": "rm(",
     "library": "var_list.r",
     "varRefreshCmd": "cat(var_dic_list()) "
    }
   },
   "types_to_exclude": [
    "module",
    "function",
    "builtin_function_or_method",
    "instance",
    "_Feature"
   ],
   "window_display": false
  }
 },
 "nbformat": 4,
 "nbformat_minor": 4
}
