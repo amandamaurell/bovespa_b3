{
 "cells": [
  {
   "cell_type": "code",
   "execution_count": 1,
   "metadata": {},
   "outputs": [],
   "source": [
    "import requests\n",
    "import pandas as pd\n",
    "from bs4 import BeautifulSoup as bsp\n",
    "import re"
   ]
  },
  {
   "cell_type": "markdown",
   "metadata": {},
   "source": [
    "# Getting the companies codes from b3.com.br"
   ]
  },
  {
   "cell_type": "code",
   "execution_count": 2,
   "metadata": {},
   "outputs": [],
   "source": [
    "url_b3 = 'http://www.b3.com.br/pt_br/produtos-e-servicos/negociacao/renda-variavel/empresas-listadas.htm'"
   ]
  },
  {
   "cell_type": "code",
   "execution_count": 3,
   "metadata": {},
   "outputs": [],
   "source": [
    "response = requests.get(url_b3)\n",
    "soup = bsp(response.content, \"html.parser\")"
   ]
  },
  {
   "cell_type": "code",
   "execution_count": 4,
   "metadata": {},
   "outputs": [
    {
     "data": {
      "text/plain": [
       "[]"
      ]
     },
     "execution_count": 4,
     "metadata": {},
     "output_type": "execute_result"
    }
   ],
   "source": [
    "companies = []\n",
    "content = soup.find_all(\"div\", class_='scrollable')\n",
    "content"
   ]
  },
  {
   "cell_type": "markdown",
   "metadata": {},
   "source": [
    "## Saved the code into a txt file to easily access it"
   ]
  },
  {
   "cell_type": "code",
   "execution_count": 5,
   "metadata": {},
   "outputs": [
    {
     "name": "stdout",
     "output_type": "stream",
     "text": [
      "{'code': ['codigoCvm=25291', 'codigoCvm=25291', 'codigoCvm=16284', 'codigoCvm=16284', 'codigoCvm=21725', 'codigoCvm=21725', 'codigoCvm=25283', 'codigoCvm=25283', 'codigoCvm=18970', 'codigoCvm=18970', 'codigoCvm=22179', 'codigoCvm=22179', 'codigoCvm=16705', 'codigoCvm=16705', 'codigoCvm=9954', 'codigoCvm=9954', 'codigoCvm=21032', 'codigoCvm=21032', 'codigoCvm=22357', 'codigoCvm=22357', 'codigoCvm=24953', 'codigoCvm=24953', 'codigoCvm=10456', 'codigoCvm=10456', 'codigoCvm=22217', 'codigoCvm=22217', 'codigoCvm=18066', 'codigoCvm=18066', 'codigoCvm=21490', 'codigoCvm=21490', 'codigoCvm=23264', 'codigoCvm=23264', 'codigoCvm=24961', 'codigoCvm=24961', 'codigoCvm=3050', 'codigoCvm=3050', 'codigoCvm=23248', 'codigoCvm=23248', 'codigoCvm=22349', 'codigoCvm=22349', 'codigoCvm=24171', 'codigoCvm=24171', 'codigoCvm=19100', 'codigoCvm=19100', 'codigoCvm=15423', 'codigoCvm=15423', 'codigoCvm=80187', 'codigoCvm=80187', 'codigoCvm=11975', 'codigoCvm=11975', 'codigoCvm=24112', 'codigoCvm=24112', 'codigoCvm=20990', 'codigoCvm=20990', 'codigoCvm=21610', 'codigoCvm=21610', 'codigoCvm=701', 'codigoCvm=701', 'codigoCvm=24600', 'codigoCvm=24600', 'codigoCvm=24406', 'codigoCvm=24406', 'codigoCvm=1155', 'codigoCvm=1155', 'codigoCvm=1520', 'codigoCvm=1520', 'codigoCvm=15458', 'codigoCvm=15458', 'codigoCvm=1562', 'codigoCvm=1562', 'codigoCvm=23159', 'codigoCvm=23159', 'codigoCvm=24660', 'codigoCvm=24660', 'codigoCvm=20958', 'codigoCvm=20958', 'codigoCvm=1384', 'codigoCvm=1384', 'codigoCvm=922', 'codigoCvm=922', 'codigoCvm=906', 'codigoCvm=906', 'codigoCvm=1023', 'codigoCvm=1023', 'codigoCvm=22616', 'codigoCvm=22616', 'codigoCvm=1120', 'codigoCvm=1120', 'codigoCvm=1171', 'codigoCvm=1171', 'codigoCvm=1210', 'codigoCvm=1210', 'codigoCvm=20885', 'codigoCvm=20885', 'codigoCvm=1309', 'codigoCvm=1309', 'codigoCvm=1325', 'codigoCvm=1325', 'codigoCvm=1228', 'codigoCvm=1228', 'codigoCvm=21199', 'codigoCvm=21199', 'codigoCvm=20567', 'codigoCvm=20567', 'codigoCvm=20532', 'codigoCvm=20532', 'codigoCvm=17884', 'codigoCvm=17884', 'codigoCvm=1694', 'codigoCvm=1694', 'codigoCvm=19305', 'codigoCvm=19305', 'codigoCvm=22845', 'codigoCvm=22845', 'codigoCvm=24317', 'codigoCvm=24317', 'codigoCvm=16772', 'codigoCvm=16772', 'codigoCvm=25135', 'codigoCvm=25135', 'codigoCvm=12190', 'codigoCvm=12190', 'codigoCvm=19909', 'codigoCvm=19909', 'codigoCvm=19925', 'codigoCvm=19925', 'codigoCvm=19640', 'codigoCvm=19640', 'codigoCvm=18724', 'codigoCvm=18724', 'codigoCvm=21180', 'codigoCvm=21180', 'codigoCvm=20036', 'codigoCvm=20036', 'codigoCvm=4820', 'codigoCvm=4820', 'codigoCvm=19720', 'codigoCvm=19720', 'codigoCvm=17922', 'codigoCvm=17922', 'codigoCvm=18759', 'codigoCvm=18759', 'codigoCvm=14206', 'codigoCvm=14206', 'codigoCvm=16292', 'codigoCvm=16292', 'codigoCvm=19984', 'codigoCvm=19984', 'codigoCvm=23817', 'codigoCvm=23817', 'codigoCvm=19119', 'codigoCvm=19119', 'codigoCvm=22683', 'codigoCvm=22683', 'codigoCvm=19135', 'codigoCvm=19135', 'codigoCvm=2100', 'codigoCvm=2100', 'codigoCvm=24228', 'codigoCvm=24228', 'codigoCvm=18821', 'codigoCvm=18821', 'codigoCvm=24848', 'codigoCvm=24848', 'codigoCvm=13854', 'codigoCvm=13854', 'codigoCvm=20303', 'codigoCvm=20303', 'codigoCvm=20320', 'codigoCvm=20320', 'codigoCvm=2437', 'codigoCvm=2437', 'codigoCvm=2461', 'codigoCvm=2461', 'codigoCvm=24058', 'codigoCvm=24058', 'codigoCvm=2577', 'codigoCvm=2577', 'codigoCvm=14826', 'codigoCvm=14826', 'codigoCvm=16861', 'codigoCvm=16861', 'codigoCvm=21393', 'codigoCvm=21393', 'codigoCvm=16616', 'codigoCvm=16616', 'codigoCvm=14524', 'codigoCvm=14524', 'codigoCvm=14451', 'codigoCvm=14451', 'codigoCvm=2453', 'codigoCvm=2453', 'codigoCvm=14362', 'codigoCvm=14362', 'codigoCvm=14869', 'codigoCvm=14869', 'codigoCvm=18139', 'codigoCvm=18139', 'codigoCvm=20648', 'codigoCvm=20648', 'codigoCvm=3204', 'codigoCvm=3204', 'codigoCvm=3069', 'codigoCvm=3069', 'codigoCvm=3077', 'codigoCvm=3077', 'codigoCvm=15636', 'codigoCvm=15636', 'codigoCvm=3298', 'codigoCvm=3298', 'codigoCvm=14761', 'codigoCvm=14761', 'codigoCvm=3395', 'codigoCvm=3395', 'codigoCvm=22691', 'codigoCvm=22691', 'codigoCvm=3654', 'codigoCvm=3654', 'codigoCvm=14311', 'codigoCvm=14311', 'codigoCvm=18708', 'codigoCvm=18708', 'codigoCvm=3824', 'codigoCvm=3824', 'codigoCvm=19275', 'codigoCvm=19275', 'codigoCvm=14443', 'codigoCvm=14443', 'codigoCvm=19445', 'codigoCvm=19445', 'codigoCvm=18627', 'codigoCvm=18627', 'codigoCvm=3115', 'codigoCvm=3115', 'codigoCvm=4030', 'codigoCvm=4030', 'codigoCvm=3158', 'codigoCvm=3158', 'codigoCvm=4081', 'codigoCvm=4081', 'codigoCvm=18287', 'codigoCvm=18287', 'codigoCvm=21733', 'codigoCvm=21733', 'codigoCvm=14818', 'codigoCvm=14818', 'codigoCvm=23965', 'codigoCvm=23965', 'codigoCvm=17973', 'codigoCvm=17973', 'codigoCvm=22268', 'codigoCvm=22268', 'codigoCvm=23515', 'codigoCvm=23515', 'codigoCvm=20397', 'codigoCvm=20397', 'codigoCvm=19208', 'codigoCvm=19208', 'codigoCvm=22411', 'codigoCvm=22411', 'codigoCvm=21024', 'codigoCvm=21024', 'codigoCvm=22721', 'codigoCvm=22721', 'codigoCvm=22071', 'codigoCvm=22071', 'codigoCvm=20192', 'codigoCvm=20192', 'codigoCvm=4693', 'codigoCvm=4693', 'codigoCvm=4707', 'codigoCvm=4707', 'codigoCvm=4723', 'codigoCvm=4723', 'codigoCvm=21148', 'codigoCvm=21148', 'codigoCvm=4863', 'codigoCvm=4863', 'codigoCvm=23485', 'codigoCvm=23485', 'codigoCvm=19836', 'codigoCvm=19836', 'codigoCvm=18660', 'codigoCvm=18660', 'codigoCvm=20540', 'codigoCvm=20540', 'codigoCvm=18953', 'codigoCvm=18953', 'codigoCvm=20630', 'codigoCvm=20630', 'codigoCvm=20044', 'codigoCvm=20044', 'codigoCvm=23981', 'codigoCvm=23981', 'codigoCvm=18376', 'codigoCvm=18376', 'codigoCvm=25100', 'codigoCvm=25100', 'codigoCvm=23310', 'codigoCvm=23310', 'codigoCvm=14460', 'codigoCvm=14460', 'codigoCvm=21040', 'codigoCvm=21040', 'codigoCvm=25046', 'codigoCvm=25046', 'codigoCvm=19623', 'codigoCvm=19623', 'codigoCvm=14214', 'codigoCvm=14214', 'codigoCvm=9342', 'codigoCvm=9342', 'codigoCvm=21350', 'codigoCvm=21350', 'codigoCvm=5207', 'codigoCvm=5207', 'codigoCvm=23493', 'codigoCvm=23493', 'codigoCvm=18597', 'codigoCvm=18597', 'codigoCvm=21091', 'codigoCvm=21091', 'codigoCvm=21741', 'codigoCvm=21741', 'codigoCvm=21903', 'codigoCvm=21903', 'codigoCvm=19453', 'codigoCvm=19453', 'codigoCvm=19763', 'codigoCvm=19763', 'codigoCvm=15342', 'codigoCvm=15342', 'codigoCvm=16985', 'codigoCvm=16985', 'codigoCvm=5380', 'codigoCvm=5380', 'codigoCvm=17485', 'codigoCvm=17485', 'codigoCvm=15784', 'codigoCvm=15784', 'codigoCvm=14176', 'codigoCvm=14176', 'codigoCvm=16993', 'codigoCvm=16993', 'codigoCvm=20087', 'codigoCvm=20087', 'codigoCvm=22608', 'codigoCvm=22608', 'codigoCvm=19011', 'codigoCvm=19011', 'codigoCvm=16497', 'codigoCvm=16497', 'codigoCvm=22365', 'codigoCvm=22365', 'codigoCvm=5576', 'codigoCvm=5576', 'codigoCvm=14605', 'codigoCvm=14605', 'codigoCvm=15253', 'codigoCvm=15253', 'codigoCvm=21237', 'codigoCvm=21237', 'codigoCvm=17329', 'codigoCvm=17329', 'codigoCvm=25259', 'codigoCvm=25259', 'codigoCvm=20010', 'codigoCvm=20010', 'codigoCvm=16608', 'codigoCvm=16608', 'codigoCvm=18309', 'codigoCvm=18309', 'codigoCvm=5762', 'codigoCvm=5762', 'codigoCvm=5770', 'codigoCvm=5770', 'codigoCvm=20524', 'codigoCvm=20524', 'codigoCvm=1570', 'codigoCvm=1570', 'codigoCvm=20770', 'codigoCvm=20770', 'codigoCvm=22977', 'codigoCvm=22977', 'codigoCvm=15369', 'codigoCvm=15369', 'codigoCvm=20621', 'codigoCvm=20621', 'codigoCvm=3891', 'codigoCvm=3891', 'codigoCvm=6076', 'codigoCvm=6076', 'codigoCvm=21881', 'codigoCvm=21881', 'codigoCvm=24350', 'codigoCvm=24350', 'codigoCvm=6211', 'codigoCvm=6211', 'codigoCvm=16101', 'codigoCvm=16101', 'codigoCvm=22764', 'codigoCvm=22764', 'codigoCvm=20222', 'codigoCvm=20222', 'codigoCvm=17965', 'codigoCvm=17965', 'codigoCvm=21008', 'codigoCvm=21008', 'codigoCvm=3980', 'codigoCvm=3980', 'codigoCvm=19569', 'codigoCvm=19569', 'codigoCvm=80020', 'codigoCvm=80020', 'codigoCvm=16632', 'codigoCvm=16632', 'codigoCvm=4537', 'codigoCvm=4537', 'codigoCvm=19615', 'codigoCvm=19615', 'codigoCvm=25011', 'codigoCvm=25011', 'codigoCvm=25186', 'codigoCvm=25186', 'codigoCvm=24694', 'codigoCvm=24694', 'codigoCvm=4669', 'codigoCvm=4669', 'codigoCvm=13366', 'codigoCvm=13366', 'codigoCvm=24392', 'codigoCvm=24392', 'codigoCvm=20877', 'codigoCvm=20877', 'codigoCvm=6629', 'codigoCvm=6629', 'codigoCvm=22675', 'codigoCvm=22675', 'codigoCvm=6700', 'codigoCvm=6700', 'codigoCvm=21431', 'codigoCvm=21431', 'codigoCvm=6815', 'codigoCvm=6815', 'codigoCvm=23175', 'codigoCvm=23175', 'codigoCvm=20494', 'codigoCvm=20494', 'codigoCvm=12319', 'codigoCvm=12319', 'codigoCvm=7510', 'codigoCvm=7510', 'codigoCvm=7595', 'codigoCvm=7595', 'codigoCvm=24090', 'codigoCvm=24090', 'codigoCvm=24279', 'codigoCvm=24279', 'codigoCvm=23574', 'codigoCvm=23574', 'codigoCvm=6041', 'codigoCvm=6041', 'codigoCvm=18775', 'codigoCvm=18775', 'codigoCvm=11932', 'codigoCvm=11932', 'codigoCvm=2429', 'codigoCvm=2429', 'codigoCvm=24180', 'codigoCvm=24180', 'codigoCvm=19364', 'codigoCvm=19364', 'codigoCvm=19348', 'codigoCvm=19348', 'codigoCvm=7617', 'codigoCvm=7617', 'codigoCvm=21156', 'codigoCvm=21156', 'codigoCvm=20575', 'codigoCvm=20575', 'codigoCvm=8672', 'codigoCvm=8672', 'codigoCvm=20605', 'codigoCvm=20605', 'codigoCvm=7811', 'codigoCvm=7811', 'codigoCvm=13285', 'codigoCvm=13285', 'codigoCvm=22020', 'codigoCvm=22020', 'codigoCvm=4146', 'codigoCvm=4146', 'codigoCvm=7870', 'codigoCvm=7870', 'codigoCvm=12653', 'codigoCvm=12653', 'codigoCvm=25062', 'codigoCvm=25062', 'codigoCvm=24872', 'codigoCvm=24872', 'codigoCvm=19879', 'codigoCvm=19879', 'codigoCvm=8036', 'codigoCvm=8036', 'codigoCvm=23035', 'codigoCvm=23035', 'codigoCvm=15091', 'codigoCvm=15091', 'codigoCvm=24759', 'codigoCvm=24759', 'codigoCvm=19739', 'codigoCvm=19739', 'codigoCvm=24910', 'codigoCvm=24910', 'codigoCvm=23272', 'codigoCvm=23272', 'codigoCvm=20710', 'codigoCvm=20710', 'codigoCvm=8087', 'codigoCvm=8087', 'codigoCvm=25038', 'codigoCvm=25038', 'codigoCvm=8133', 'codigoCvm=8133', 'codigoCvm=20370', 'codigoCvm=20370', 'codigoCvm=20060', 'codigoCvm=20060', 'codigoCvm=20338', 'codigoCvm=20338', 'codigoCvm=23612', 'codigoCvm=23612', 'codigoCvm=22470', 'codigoCvm=22470', 'codigoCvm=8575', 'codigoCvm=8575', 'codigoCvm=8397', 'codigoCvm=8397', 'codigoCvm=8427', 'codigoCvm=8427', 'codigoCvm=8451', 'codigoCvm=8451', 'codigoCvm=20788', 'codigoCvm=20788', 'codigoCvm=22055', 'codigoCvm=22055', 'codigoCvm=25232', 'codigoCvm=25232', 'codigoCvm=25119', 'codigoCvm=25119', 'codigoCvm=8540', 'codigoCvm=8540', 'codigoCvm=20613', 'codigoCvm=20613', 'codigoCvm=8605', 'codigoCvm=8605', 'codigoCvm=8656', 'codigoCvm=8656', 'codigoCvm=13439', 'codigoCvm=13439', 'codigoCvm=8753', 'codigoCvm=8753', 'codigoCvm=22942', 'codigoCvm=22942', 'codigoCvm=22012', 'codigoCvm=22012', 'codigoCvm=8818', 'codigoCvm=8818', 'codigoCvm=20931', 'codigoCvm=20931', 'codigoCvm=13765', 'codigoCvm=13765', 'codigoCvm=24902', 'codigoCvm=24902', 'codigoCvm=17914', 'codigoCvm=17914', 'codigoCvm=8893', 'codigoCvm=8893', 'codigoCvm=21067', 'codigoCvm=21067', 'codigoCvm=23825', 'codigoCvm=23825', 'codigoCvm=17949', 'codigoCvm=17949', 'codigoCvm=20915', 'codigoCvm=20915', 'codigoCvm=20982', 'codigoCvm=20982', 'codigoCvm=5312', 'codigoCvm=5312', 'codigoCvm=24783', 'codigoCvm=24783', 'codigoCvm=19550', 'codigoCvm=19550', 'codigoCvm=15539', 'codigoCvm=15539', 'codigoCvm=9083', 'codigoCvm=9083', 'codigoCvm=22985', 'codigoCvm=22985', 'codigoCvm=24384', 'codigoCvm=24384', 'codigoCvm=21334', 'codigoCvm=21334', 'codigoCvm=22390', 'codigoCvm=22390', 'codigoCvm=20125', 'codigoCvm=20125', 'codigoCvm=11312', 'codigoCvm=11312', 'codigoCvm=23426', 'codigoCvm=23426', 'codigoCvm=16942', 'codigoCvm=16942', 'codigoCvm=21342', 'codigoCvm=21342', 'codigoCvm=22250', 'codigoCvm=22250', 'codigoCvm=23507', 'codigoCvm=23507', 'codigoCvm=23280', 'codigoCvm=23280', 'codigoCvm=18414', 'codigoCvm=18414', 'codigoCvm=94', 'codigoCvm=94', 'codigoCvm=20729', 'codigoCvm=20729', 'codigoCvm=9393', 'codigoCvm=9393', 'codigoCvm=18236', 'codigoCvm=18236', 'codigoCvm=13773', 'codigoCvm=13773', 'codigoCvm=21644', 'codigoCvm=21644', 'codigoCvm=20478', 'codigoCvm=20478', 'codigoCvm=25089', 'codigoCvm=25089', 'codigoCvm=22187', 'codigoCvm=22187', 'codigoCvm=24295', 'codigoCvm=24295', 'codigoCvm=9512', 'codigoCvm=9512', 'codigoCvm=9539', 'codigoCvm=9539', 'codigoCvm=25070', 'codigoCvm=25070', 'codigoCvm=13471', 'codigoCvm=13471', 'codigoCvm=22160', 'codigoCvm=22160', 'codigoCvm=13447', 'codigoCvm=13447', 'codigoCvm=19658', 'codigoCvm=19658', 'codigoCvm=16659', 'codigoCvm=16659', 'codigoCvm=23523', 'codigoCvm=23523', 'codigoCvm=20362', 'codigoCvm=20362', 'codigoCvm=80152', 'codigoCvm=80152', 'codigoCvm=24546', 'codigoCvm=24546', 'codigoCvm=24236', 'codigoCvm=24236', 'codigoCvm=19232', 'codigoCvm=19232', 'codigoCvm=20346', 'codigoCvm=20346', 'codigoCvm=18333', 'codigoCvm=18333', 'codigoCvm=22497', 'codigoCvm=22497', 'codigoCvm=23302', 'codigoCvm=23302', 'codigoCvm=5258', 'codigoCvm=5258', 'codigoCvm=23230', 'codigoCvm=23230', 'codigoCvm=14109', 'codigoCvm=14109', 'codigoCvm=18406', 'codigoCvm=18406', 'codigoCvm=18430', 'codigoCvm=18430', 'codigoCvm=12572', 'codigoCvm=12572', 'codigoCvm=3190', 'codigoCvm=3190', 'codigoCvm=9989', 'codigoCvm=9989', 'codigoCvm=21636', 'codigoCvm=21636', 'codigoCvm=21440', 'codigoCvm=21440', 'codigoCvm=16527', 'codigoCvm=16527', 'codigoCvm=18368', 'codigoCvm=18368', 'codigoCvm=20451', 'codigoCvm=20451', 'codigoCvm=23167', 'codigoCvm=23167', 'codigoCvm=16306', 'codigoCvm=16306', 'codigoCvm=15300', 'codigoCvm=15300', 'codigoCvm=17930', 'codigoCvm=17930', 'codigoCvm=17450', 'codigoCvm=17450', 'codigoCvm=23540', 'codigoCvm=23540', 'codigoCvm=19593', 'codigoCvm=19593', 'codigoCvm=12696', 'codigoCvm=12696', 'codigoCvm=14923', 'codigoCvm=14923', 'codigoCvm=23388', 'codigoCvm=23388', 'codigoCvm=17892', 'codigoCvm=17892', 'codigoCvm=13781', 'codigoCvm=13781', 'codigoCvm=20516', 'codigoCvm=20516', 'codigoCvm=9415', 'codigoCvm=9415', 'codigoCvm=10472', 'codigoCvm=10472', 'codigoCvm=14664', 'codigoCvm=14664', 'codigoCvm=25160', 'codigoCvm=25160', 'codigoCvm=23221', 'codigoCvm=23221', 'codigoCvm=12823', 'codigoCvm=12823', 'codigoCvm=25003', 'codigoCvm=25003', 'codigoCvm=22799', 'codigoCvm=22799', 'codigoCvm=20745', 'codigoCvm=20745', 'codigoCvm=24260', 'codigoCvm=24260', 'codigoCvm=24252', 'codigoCvm=24252', 'codigoCvm=10880', 'codigoCvm=10880', 'codigoCvm=20966', 'codigoCvm=20966', 'codigoCvm=24201', 'codigoCvm=24201', 'codigoCvm=22594', 'codigoCvm=22594', 'codigoCvm=16586', 'codigoCvm=16586', 'codigoCvm=16438', 'codigoCvm=16438', 'codigoCvm=21121', 'codigoCvm=21121', 'codigoCvm=9067', 'codigoCvm=9067', 'codigoCvm=13986', 'codigoCvm=13986', 'codigoCvm=22454', 'codigoCvm=22454', 'codigoCvm=6173', 'codigoCvm=6173', 'codigoCvm=24066', 'codigoCvm=24066', 'codigoCvm=22519', 'codigoCvm=22519', 'codigoCvm=20435', 'codigoCvm=20435', 'codigoCvm=11207', 'codigoCvm=11207', 'codigoCvm=20800', 'codigoCvm=20800', 'codigoCvm=11223', 'codigoCvm=11223', 'codigoCvm=11231', 'codigoCvm=11231', 'codigoCvm=11258', 'codigoCvm=11258', 'codigoCvm=17671', 'codigoCvm=17671', 'codigoCvm=23329', 'codigoCvm=23329', 'codigoCvm=18538', 'codigoCvm=18538', 'codigoCvm=19852', 'codigoCvm=19852', 'codigoCvm=20354', 'codigoCvm=20354', 'codigoCvm=7544', 'codigoCvm=7544', 'codigoCvm=17639', 'codigoCvm=17639', 'codigoCvm=24929', 'codigoCvm=24929', 'codigoCvm=19992', 'codigoCvm=19992', 'codigoCvm=19330', 'codigoCvm=19330', 'codigoCvm=25208', 'codigoCvm=25208', 'codigoCvm=20257', 'codigoCvm=20257', 'codigoCvm=8192', 'codigoCvm=8192', 'codigoCvm=23060', 'codigoCvm=23060', 'codigoCvm=21130', 'codigoCvm=21130', 'codigoCvm=11398', 'codigoCvm=11398', 'codigoCvm=22276', 'codigoCvm=22276', 'codigoCvm=6343', 'codigoCvm=6343', 'codigoCvm=18465', 'codigoCvm=18465', 'codigoCvm=22780', 'codigoCvm=22780', 'codigoCvm=21555', 'codigoCvm=21555', 'codigoCvm=11592', 'codigoCvm=11592', 'codigoCvm=16624', 'codigoCvm=16624', 'codigoCvm=14320', 'codigoCvm=14320', 'codigoCvm=4170', 'codigoCvm=4170', 'codigoCvm=20028', 'codigoCvm=20028', 'codigoCvm=23990', 'codigoCvm=23990', 'codigoCvm=6505', 'codigoCvm=6505', 'codigoCvm=24805', 'codigoCvm=24805', 'codigoCvm=20702', 'codigoCvm=20702', 'codigoCvm=11762', 'codigoCvm=11762', 'codigoCvm=5410', 'codigoCvm=5410', 'codigoCvm=11991', 'codigoCvm=11991', 'codigoCvm=14346', 'codigoCvm=14346', 'codigoCvm=80047', 'codigoCvm=80047', 'codigoCvm=23590', 'codigoCvm=23590', 'codigoCvm=11070', 'codigoCvm=11070', 'codigoCvm=21016', 'codigoCvm=21016']}\n"
     ]
    }
   ],
   "source": [
    "pattern = re.compile(r'codigoCvm=\\d+')\n",
    "numbers = {}\n",
    "with open('bovespa.txt', 'r', encoding='utf-8', errors='ignore') as file:\n",
    "    f = file.read()\n",
    "    numbers['code'] = re.findall(pattern, f)\n",
    "    print(numbers)\n",
    "    df= pd.DataFrame(numbers)"
   ]
  },
  {
   "cell_type": "markdown",
   "metadata": {},
   "source": [
    "## Turning into a df to drop duplicates and get the clean code number"
   ]
  },
  {
   "cell_type": "code",
   "execution_count": 6,
   "metadata": {},
   "outputs": [],
   "source": [
    "df = df.drop_duplicates()"
   ]
  },
  {
   "cell_type": "code",
   "execution_count": 7,
   "metadata": {},
   "outputs": [],
   "source": [
    "df['code'] = df['code'].map(lambda x: x.strip('codigoCvm='))"
   ]
  },
  {
   "cell_type": "markdown",
   "metadata": {},
   "source": [
    "### Testing if it works with different codes"
   ]
  },
  {
   "cell_type": "code",
   "execution_count": 8,
   "metadata": {},
   "outputs": [],
   "source": [
    "code = '25291'\n",
    "url_bovespa = f'http://bvmf.bmfbovespa.com.br/cias-listadas/empresas-listadas/ResumoEmpresaPrincipal.aspx?codigoCvm={code}&idioma=pt-br'"
   ]
  },
  {
   "cell_type": "markdown",
   "metadata": {},
   "source": [
    "## Using the general url to get the url contained in the iframe "
   ]
  },
  {
   "cell_type": "code",
   "execution_count": 9,
   "metadata": {},
   "outputs": [],
   "source": [
    "response = requests.get(url_bovespa)\n",
    "soup = bsp(response.content, \"html.parser\")"
   ]
  },
  {
   "cell_type": "code",
   "execution_count": 10,
   "metadata": {},
   "outputs": [
    {
     "data": {
      "text/plain": [
       "'http://bvmf.bmfbovespa.com.br/pt-br/mercados/acoes/empresas/ExecutaAcaoConsultaInfoEmp.asp?CodCVM=25291&ViewDoc=1&AnoDoc=2020&VersaoDoc=3&NumSeqDoc=98701#a'"
      ]
     },
     "execution_count": 10,
     "metadata": {},
     "output_type": "execute_result"
    }
   ],
   "source": [
    "content = soup.find(\"iframe\", id='ctl00_contentPlaceHolderConteudo_iframeCarregadorPaginaExterna').get('src')\n",
    "new_url = 'http://bvmf.bmfbovespa.com.br/' + content.lstrip('../../')\n",
    "new_url"
   ]
  },
  {
   "cell_type": "code",
   "execution_count": 11,
   "metadata": {},
   "outputs": [],
   "source": [
    "content_url = f'http://bvmf.bmfbovespa.com.br/pt-br/mercados/acoes/empresas/ExecutaAcaoConsultaInfoEmp.asp?CodCVM={code}&ViewDoc=1&AnoDoc=2020&VersaoDoc=3&NumSeqDoc=98701#a'"
   ]
  },
  {
   "cell_type": "markdown",
   "metadata": {},
   "source": [
    "### using pandas read_html to get the information in a list with dataframe objects using the previous url"
   ]
  },
  {
   "cell_type": "code",
   "execution_count": 1,
   "metadata": {},
   "outputs": [
    {
     "ename": "NameError",
     "evalue": "name 'pd' is not defined",
     "output_type": "error",
     "traceback": [
      "\u001b[1;31m---------------------------------------------------------------------------\u001b[0m",
      "\u001b[1;31mNameError\u001b[0m                                 Traceback (most recent call last)",
      "\u001b[1;32m<ipython-input-1-3d81ee616abd>\u001b[0m in \u001b[0;36m<module>\u001b[1;34m\u001b[0m\n\u001b[1;32m----> 1\u001b[1;33m \u001b[0mwtf\u001b[0m \u001b[1;33m=\u001b[0m \u001b[0mpd\u001b[0m\u001b[1;33m.\u001b[0m\u001b[0mread_html\u001b[0m\u001b[1;33m(\u001b[0m\u001b[0mnew_url\u001b[0m\u001b[1;33m)\u001b[0m\u001b[1;33m\u001b[0m\u001b[1;33m\u001b[0m\u001b[0m\n\u001b[0m",
      "\u001b[1;31mNameError\u001b[0m: name 'pd' is not defined"
     ]
    }
   ],
   "source": [
    "wtf = pd.read_html(new_url)"
   ]
  },
  {
   "cell_type": "code",
   "execution_count": 18,
   "metadata": {},
   "outputs": [
    {
     "ename": "ConnectionResetError",
     "evalue": "[WinError 10054] Foi forçado o cancelamento de uma conexão existente pelo host remoto",
     "output_type": "error",
     "traceback": [
      "\u001b[1;31m---------------------------------------------------------------------------\u001b[0m",
      "\u001b[1;31mConnectionResetError\u001b[0m                      Traceback (most recent call last)",
      "\u001b[1;32m<ipython-input-18-898ca85afb33>\u001b[0m in \u001b[0;36m<module>\u001b[1;34m\u001b[0m\n\u001b[0;32m      3\u001b[0m     \u001b[0mcode\u001b[0m \u001b[1;33m=\u001b[0m \u001b[0mi\u001b[0m\u001b[1;33m\u001b[0m\u001b[1;33m\u001b[0m\u001b[0m\n\u001b[0;32m      4\u001b[0m     \u001b[0mcontent_url\u001b[0m \u001b[1;33m=\u001b[0m \u001b[1;34mf'http://bvmf.bmfbovespa.com.br/pt-br/mercados/acoes/empresas/ExecutaAcaoConsultaInfoEmp.asp?CodCVM={code}&ViewDoc=1&AnoDoc=2020&VersaoDoc=3&NumSeqDoc=98701#a'\u001b[0m\u001b[1;33m\u001b[0m\u001b[1;33m\u001b[0m\u001b[0m\n\u001b[1;32m----> 5\u001b[1;33m     \u001b[0mresult\u001b[0m \u001b[1;33m=\u001b[0m \u001b[0mpd\u001b[0m\u001b[1;33m.\u001b[0m\u001b[0mread_html\u001b[0m\u001b[1;33m(\u001b[0m\u001b[0mcontent_url\u001b[0m\u001b[1;33m)\u001b[0m\u001b[1;33m\u001b[0m\u001b[1;33m\u001b[0m\u001b[0m\n\u001b[0m\u001b[0;32m      6\u001b[0m     \u001b[0mdf_dict\u001b[0m\u001b[1;33m[\u001b[0m\u001b[0mresult\u001b[0m\u001b[1;33m[\u001b[0m\u001b[1;36m0\u001b[0m\u001b[1;33m]\u001b[0m\u001b[1;33m[\u001b[0m\u001b[1;36m1\u001b[0m\u001b[1;33m]\u001b[0m\u001b[1;33m[\u001b[0m\u001b[1;36m0\u001b[0m\u001b[1;33m]\u001b[0m\u001b[1;33m]\u001b[0m \u001b[1;33m=\u001b[0m \u001b[0mresult\u001b[0m\u001b[1;33m\u001b[0m\u001b[1;33m\u001b[0m\u001b[0m\n",
      "\u001b[1;32mc:\\users\\amand\\.venvs\\lewagon\\lib\\site-packages\\pandas\\util\\_decorators.py\u001b[0m in \u001b[0;36mwrapper\u001b[1;34m(*args, **kwargs)\u001b[0m\n\u001b[0;32m    294\u001b[0m                 )\n\u001b[0;32m    295\u001b[0m                 \u001b[0mwarnings\u001b[0m\u001b[1;33m.\u001b[0m\u001b[0mwarn\u001b[0m\u001b[1;33m(\u001b[0m\u001b[0mmsg\u001b[0m\u001b[1;33m,\u001b[0m \u001b[0mFutureWarning\u001b[0m\u001b[1;33m,\u001b[0m \u001b[0mstacklevel\u001b[0m\u001b[1;33m=\u001b[0m\u001b[0mstacklevel\u001b[0m\u001b[1;33m)\u001b[0m\u001b[1;33m\u001b[0m\u001b[1;33m\u001b[0m\u001b[0m\n\u001b[1;32m--> 296\u001b[1;33m             \u001b[1;32mreturn\u001b[0m \u001b[0mfunc\u001b[0m\u001b[1;33m(\u001b[0m\u001b[1;33m*\u001b[0m\u001b[0margs\u001b[0m\u001b[1;33m,\u001b[0m \u001b[1;33m**\u001b[0m\u001b[0mkwargs\u001b[0m\u001b[1;33m)\u001b[0m\u001b[1;33m\u001b[0m\u001b[1;33m\u001b[0m\u001b[0m\n\u001b[0m\u001b[0;32m    297\u001b[0m \u001b[1;33m\u001b[0m\u001b[0m\n\u001b[0;32m    298\u001b[0m         \u001b[1;32mreturn\u001b[0m \u001b[0mwrapper\u001b[0m\u001b[1;33m\u001b[0m\u001b[1;33m\u001b[0m\u001b[0m\n",
      "\u001b[1;32mc:\\users\\amand\\.venvs\\lewagon\\lib\\site-packages\\pandas\\io\\html.py\u001b[0m in \u001b[0;36mread_html\u001b[1;34m(io, match, flavor, header, index_col, skiprows, attrs, parse_dates, thousands, encoding, decimal, converters, na_values, keep_default_na, displayed_only)\u001b[0m\n\u001b[0;32m   1099\u001b[0m         \u001b[0mna_values\u001b[0m\u001b[1;33m=\u001b[0m\u001b[0mna_values\u001b[0m\u001b[1;33m,\u001b[0m\u001b[1;33m\u001b[0m\u001b[1;33m\u001b[0m\u001b[0m\n\u001b[0;32m   1100\u001b[0m         \u001b[0mkeep_default_na\u001b[0m\u001b[1;33m=\u001b[0m\u001b[0mkeep_default_na\u001b[0m\u001b[1;33m,\u001b[0m\u001b[1;33m\u001b[0m\u001b[1;33m\u001b[0m\u001b[0m\n\u001b[1;32m-> 1101\u001b[1;33m         \u001b[0mdisplayed_only\u001b[0m\u001b[1;33m=\u001b[0m\u001b[0mdisplayed_only\u001b[0m\u001b[1;33m,\u001b[0m\u001b[1;33m\u001b[0m\u001b[1;33m\u001b[0m\u001b[0m\n\u001b[0m\u001b[0;32m   1102\u001b[0m     )\n",
      "\u001b[1;32mc:\\users\\amand\\.venvs\\lewagon\\lib\\site-packages\\pandas\\io\\html.py\u001b[0m in \u001b[0;36m_parse\u001b[1;34m(flavor, io, match, attrs, encoding, displayed_only, **kwargs)\u001b[0m\n\u001b[0;32m    896\u001b[0m \u001b[1;33m\u001b[0m\u001b[0m\n\u001b[0;32m    897\u001b[0m         \u001b[1;32mtry\u001b[0m\u001b[1;33m:\u001b[0m\u001b[1;33m\u001b[0m\u001b[1;33m\u001b[0m\u001b[0m\n\u001b[1;32m--> 898\u001b[1;33m             \u001b[0mtables\u001b[0m \u001b[1;33m=\u001b[0m \u001b[0mp\u001b[0m\u001b[1;33m.\u001b[0m\u001b[0mparse_tables\u001b[0m\u001b[1;33m(\u001b[0m\u001b[1;33m)\u001b[0m\u001b[1;33m\u001b[0m\u001b[1;33m\u001b[0m\u001b[0m\n\u001b[0m\u001b[0;32m    899\u001b[0m         \u001b[1;32mexcept\u001b[0m \u001b[0mValueError\u001b[0m \u001b[1;32mas\u001b[0m \u001b[0mcaught\u001b[0m\u001b[1;33m:\u001b[0m\u001b[1;33m\u001b[0m\u001b[1;33m\u001b[0m\u001b[0m\n\u001b[0;32m    900\u001b[0m             \u001b[1;31m# if `io` is an io-like object, check if it's seekable\u001b[0m\u001b[1;33m\u001b[0m\u001b[1;33m\u001b[0m\u001b[1;33m\u001b[0m\u001b[0m\n",
      "\u001b[1;32mc:\\users\\amand\\.venvs\\lewagon\\lib\\site-packages\\pandas\\io\\html.py\u001b[0m in \u001b[0;36mparse_tables\u001b[1;34m(self)\u001b[0m\n\u001b[0;32m    215\u001b[0m         \u001b[0mlist\u001b[0m \u001b[0mof\u001b[0m \u001b[0mparsed\u001b[0m \u001b[1;33m(\u001b[0m\u001b[0mheader\u001b[0m\u001b[1;33m,\u001b[0m \u001b[0mbody\u001b[0m\u001b[1;33m,\u001b[0m \u001b[0mfooter\u001b[0m\u001b[1;33m)\u001b[0m \u001b[0mtuples\u001b[0m \u001b[1;32mfrom\u001b[0m \u001b[0mtables\u001b[0m\u001b[1;33m.\u001b[0m\u001b[1;33m\u001b[0m\u001b[1;33m\u001b[0m\u001b[0m\n\u001b[0;32m    216\u001b[0m         \"\"\"\n\u001b[1;32m--> 217\u001b[1;33m         \u001b[0mtables\u001b[0m \u001b[1;33m=\u001b[0m \u001b[0mself\u001b[0m\u001b[1;33m.\u001b[0m\u001b[0m_parse_tables\u001b[0m\u001b[1;33m(\u001b[0m\u001b[0mself\u001b[0m\u001b[1;33m.\u001b[0m\u001b[0m_build_doc\u001b[0m\u001b[1;33m(\u001b[0m\u001b[1;33m)\u001b[0m\u001b[1;33m,\u001b[0m \u001b[0mself\u001b[0m\u001b[1;33m.\u001b[0m\u001b[0mmatch\u001b[0m\u001b[1;33m,\u001b[0m \u001b[0mself\u001b[0m\u001b[1;33m.\u001b[0m\u001b[0mattrs\u001b[0m\u001b[1;33m)\u001b[0m\u001b[1;33m\u001b[0m\u001b[1;33m\u001b[0m\u001b[0m\n\u001b[0m\u001b[0;32m    218\u001b[0m         \u001b[1;32mreturn\u001b[0m \u001b[1;33m(\u001b[0m\u001b[0mself\u001b[0m\u001b[1;33m.\u001b[0m\u001b[0m_parse_thead_tbody_tfoot\u001b[0m\u001b[1;33m(\u001b[0m\u001b[0mtable\u001b[0m\u001b[1;33m)\u001b[0m \u001b[1;32mfor\u001b[0m \u001b[0mtable\u001b[0m \u001b[1;32min\u001b[0m \u001b[0mtables\u001b[0m\u001b[1;33m)\u001b[0m\u001b[1;33m\u001b[0m\u001b[1;33m\u001b[0m\u001b[0m\n\u001b[0;32m    219\u001b[0m \u001b[1;33m\u001b[0m\u001b[0m\n",
      "\u001b[1;32mc:\\users\\amand\\.venvs\\lewagon\\lib\\site-packages\\pandas\\io\\html.py\u001b[0m in \u001b[0;36m_build_doc\u001b[1;34m(self)\u001b[0m\n\u001b[0;32m    734\u001b[0m                     \u001b[1;32mpass\u001b[0m\u001b[1;33m\u001b[0m\u001b[1;33m\u001b[0m\u001b[0m\n\u001b[0;32m    735\u001b[0m             \u001b[1;32melse\u001b[0m\u001b[1;33m:\u001b[0m\u001b[1;33m\u001b[0m\u001b[1;33m\u001b[0m\u001b[0m\n\u001b[1;32m--> 736\u001b[1;33m                 \u001b[1;32mraise\u001b[0m \u001b[0me\u001b[0m\u001b[1;33m\u001b[0m\u001b[1;33m\u001b[0m\u001b[0m\n\u001b[0m\u001b[0;32m    737\u001b[0m         \u001b[1;32melse\u001b[0m\u001b[1;33m:\u001b[0m\u001b[1;33m\u001b[0m\u001b[1;33m\u001b[0m\u001b[0m\n\u001b[0;32m    738\u001b[0m             \u001b[1;32mif\u001b[0m \u001b[1;32mnot\u001b[0m \u001b[0mhasattr\u001b[0m\u001b[1;33m(\u001b[0m\u001b[0mr\u001b[0m\u001b[1;33m,\u001b[0m \u001b[1;34m\"text_content\"\u001b[0m\u001b[1;33m)\u001b[0m\u001b[1;33m:\u001b[0m\u001b[1;33m\u001b[0m\u001b[1;33m\u001b[0m\u001b[0m\n",
      "\u001b[1;32mc:\\users\\amand\\.venvs\\lewagon\\lib\\site-packages\\pandas\\io\\html.py\u001b[0m in \u001b[0;36m_build_doc\u001b[1;34m(self)\u001b[0m\n\u001b[0;32m    715\u001b[0m         \u001b[1;32mtry\u001b[0m\u001b[1;33m:\u001b[0m\u001b[1;33m\u001b[0m\u001b[1;33m\u001b[0m\u001b[0m\n\u001b[0;32m    716\u001b[0m             \u001b[1;32mif\u001b[0m \u001b[0mis_url\u001b[0m\u001b[1;33m(\u001b[0m\u001b[0mself\u001b[0m\u001b[1;33m.\u001b[0m\u001b[0mio\u001b[0m\u001b[1;33m)\u001b[0m\u001b[1;33m:\u001b[0m\u001b[1;33m\u001b[0m\u001b[1;33m\u001b[0m\u001b[0m\n\u001b[1;32m--> 717\u001b[1;33m                 \u001b[1;32mwith\u001b[0m \u001b[0murlopen\u001b[0m\u001b[1;33m(\u001b[0m\u001b[0mself\u001b[0m\u001b[1;33m.\u001b[0m\u001b[0mio\u001b[0m\u001b[1;33m)\u001b[0m \u001b[1;32mas\u001b[0m \u001b[0mf\u001b[0m\u001b[1;33m:\u001b[0m\u001b[1;33m\u001b[0m\u001b[1;33m\u001b[0m\u001b[0m\n\u001b[0m\u001b[0;32m    718\u001b[0m                     \u001b[0mr\u001b[0m \u001b[1;33m=\u001b[0m \u001b[0mparse\u001b[0m\u001b[1;33m(\u001b[0m\u001b[0mf\u001b[0m\u001b[1;33m,\u001b[0m \u001b[0mparser\u001b[0m\u001b[1;33m=\u001b[0m\u001b[0mparser\u001b[0m\u001b[1;33m)\u001b[0m\u001b[1;33m\u001b[0m\u001b[1;33m\u001b[0m\u001b[0m\n\u001b[0;32m    719\u001b[0m             \u001b[1;32melse\u001b[0m\u001b[1;33m:\u001b[0m\u001b[1;33m\u001b[0m\u001b[1;33m\u001b[0m\u001b[0m\n",
      "\u001b[1;32mc:\\users\\amand\\.venvs\\lewagon\\lib\\site-packages\\pandas\\io\\common.py\u001b[0m in \u001b[0;36murlopen\u001b[1;34m(*args, **kwargs)\u001b[0m\n\u001b[0;32m    135\u001b[0m     \u001b[1;32mimport\u001b[0m \u001b[0murllib\u001b[0m\u001b[1;33m.\u001b[0m\u001b[0mrequest\u001b[0m\u001b[1;33m\u001b[0m\u001b[1;33m\u001b[0m\u001b[0m\n\u001b[0;32m    136\u001b[0m \u001b[1;33m\u001b[0m\u001b[0m\n\u001b[1;32m--> 137\u001b[1;33m     \u001b[1;32mreturn\u001b[0m \u001b[0murllib\u001b[0m\u001b[1;33m.\u001b[0m\u001b[0mrequest\u001b[0m\u001b[1;33m.\u001b[0m\u001b[0murlopen\u001b[0m\u001b[1;33m(\u001b[0m\u001b[1;33m*\u001b[0m\u001b[0margs\u001b[0m\u001b[1;33m,\u001b[0m \u001b[1;33m**\u001b[0m\u001b[0mkwargs\u001b[0m\u001b[1;33m)\u001b[0m\u001b[1;33m\u001b[0m\u001b[1;33m\u001b[0m\u001b[0m\n\u001b[0m\u001b[0;32m    138\u001b[0m \u001b[1;33m\u001b[0m\u001b[0m\n\u001b[0;32m    139\u001b[0m \u001b[1;33m\u001b[0m\u001b[0m\n",
      "\u001b[1;32m~\\AppData\\Local\\Programs\\Python\\Python37\\lib\\urllib\\request.py\u001b[0m in \u001b[0;36murlopen\u001b[1;34m(url, data, timeout, cafile, capath, cadefault, context)\u001b[0m\n\u001b[0;32m    220\u001b[0m     \u001b[1;32melse\u001b[0m\u001b[1;33m:\u001b[0m\u001b[1;33m\u001b[0m\u001b[1;33m\u001b[0m\u001b[0m\n\u001b[0;32m    221\u001b[0m         \u001b[0mopener\u001b[0m \u001b[1;33m=\u001b[0m \u001b[0m_opener\u001b[0m\u001b[1;33m\u001b[0m\u001b[1;33m\u001b[0m\u001b[0m\n\u001b[1;32m--> 222\u001b[1;33m     \u001b[1;32mreturn\u001b[0m \u001b[0mopener\u001b[0m\u001b[1;33m.\u001b[0m\u001b[0mopen\u001b[0m\u001b[1;33m(\u001b[0m\u001b[0murl\u001b[0m\u001b[1;33m,\u001b[0m \u001b[0mdata\u001b[0m\u001b[1;33m,\u001b[0m \u001b[0mtimeout\u001b[0m\u001b[1;33m)\u001b[0m\u001b[1;33m\u001b[0m\u001b[1;33m\u001b[0m\u001b[0m\n\u001b[0m\u001b[0;32m    223\u001b[0m \u001b[1;33m\u001b[0m\u001b[0m\n\u001b[0;32m    224\u001b[0m \u001b[1;32mdef\u001b[0m \u001b[0minstall_opener\u001b[0m\u001b[1;33m(\u001b[0m\u001b[0mopener\u001b[0m\u001b[1;33m)\u001b[0m\u001b[1;33m:\u001b[0m\u001b[1;33m\u001b[0m\u001b[1;33m\u001b[0m\u001b[0m\n",
      "\u001b[1;32m~\\AppData\\Local\\Programs\\Python\\Python37\\lib\\urllib\\request.py\u001b[0m in \u001b[0;36mopen\u001b[1;34m(self, fullurl, data, timeout)\u001b[0m\n\u001b[0;32m    523\u001b[0m             \u001b[0mreq\u001b[0m \u001b[1;33m=\u001b[0m \u001b[0mmeth\u001b[0m\u001b[1;33m(\u001b[0m\u001b[0mreq\u001b[0m\u001b[1;33m)\u001b[0m\u001b[1;33m\u001b[0m\u001b[1;33m\u001b[0m\u001b[0m\n\u001b[0;32m    524\u001b[0m \u001b[1;33m\u001b[0m\u001b[0m\n\u001b[1;32m--> 525\u001b[1;33m         \u001b[0mresponse\u001b[0m \u001b[1;33m=\u001b[0m \u001b[0mself\u001b[0m\u001b[1;33m.\u001b[0m\u001b[0m_open\u001b[0m\u001b[1;33m(\u001b[0m\u001b[0mreq\u001b[0m\u001b[1;33m,\u001b[0m \u001b[0mdata\u001b[0m\u001b[1;33m)\u001b[0m\u001b[1;33m\u001b[0m\u001b[1;33m\u001b[0m\u001b[0m\n\u001b[0m\u001b[0;32m    526\u001b[0m \u001b[1;33m\u001b[0m\u001b[0m\n\u001b[0;32m    527\u001b[0m         \u001b[1;31m# post-process response\u001b[0m\u001b[1;33m\u001b[0m\u001b[1;33m\u001b[0m\u001b[1;33m\u001b[0m\u001b[0m\n",
      "\u001b[1;32m~\\AppData\\Local\\Programs\\Python\\Python37\\lib\\urllib\\request.py\u001b[0m in \u001b[0;36m_open\u001b[1;34m(self, req, data)\u001b[0m\n\u001b[0;32m    541\u001b[0m         \u001b[0mprotocol\u001b[0m \u001b[1;33m=\u001b[0m \u001b[0mreq\u001b[0m\u001b[1;33m.\u001b[0m\u001b[0mtype\u001b[0m\u001b[1;33m\u001b[0m\u001b[1;33m\u001b[0m\u001b[0m\n\u001b[0;32m    542\u001b[0m         result = self._call_chain(self.handle_open, protocol, protocol +\n\u001b[1;32m--> 543\u001b[1;33m                                   '_open', req)\n\u001b[0m\u001b[0;32m    544\u001b[0m         \u001b[1;32mif\u001b[0m \u001b[0mresult\u001b[0m\u001b[1;33m:\u001b[0m\u001b[1;33m\u001b[0m\u001b[1;33m\u001b[0m\u001b[0m\n\u001b[0;32m    545\u001b[0m             \u001b[1;32mreturn\u001b[0m \u001b[0mresult\u001b[0m\u001b[1;33m\u001b[0m\u001b[1;33m\u001b[0m\u001b[0m\n",
      "\u001b[1;32m~\\AppData\\Local\\Programs\\Python\\Python37\\lib\\urllib\\request.py\u001b[0m in \u001b[0;36m_call_chain\u001b[1;34m(self, chain, kind, meth_name, *args)\u001b[0m\n\u001b[0;32m    501\u001b[0m         \u001b[1;32mfor\u001b[0m \u001b[0mhandler\u001b[0m \u001b[1;32min\u001b[0m \u001b[0mhandlers\u001b[0m\u001b[1;33m:\u001b[0m\u001b[1;33m\u001b[0m\u001b[1;33m\u001b[0m\u001b[0m\n\u001b[0;32m    502\u001b[0m             \u001b[0mfunc\u001b[0m \u001b[1;33m=\u001b[0m \u001b[0mgetattr\u001b[0m\u001b[1;33m(\u001b[0m\u001b[0mhandler\u001b[0m\u001b[1;33m,\u001b[0m \u001b[0mmeth_name\u001b[0m\u001b[1;33m)\u001b[0m\u001b[1;33m\u001b[0m\u001b[1;33m\u001b[0m\u001b[0m\n\u001b[1;32m--> 503\u001b[1;33m             \u001b[0mresult\u001b[0m \u001b[1;33m=\u001b[0m \u001b[0mfunc\u001b[0m\u001b[1;33m(\u001b[0m\u001b[1;33m*\u001b[0m\u001b[0margs\u001b[0m\u001b[1;33m)\u001b[0m\u001b[1;33m\u001b[0m\u001b[1;33m\u001b[0m\u001b[0m\n\u001b[0m\u001b[0;32m    504\u001b[0m             \u001b[1;32mif\u001b[0m \u001b[0mresult\u001b[0m \u001b[1;32mis\u001b[0m \u001b[1;32mnot\u001b[0m \u001b[1;32mNone\u001b[0m\u001b[1;33m:\u001b[0m\u001b[1;33m\u001b[0m\u001b[1;33m\u001b[0m\u001b[0m\n\u001b[0;32m    505\u001b[0m                 \u001b[1;32mreturn\u001b[0m \u001b[0mresult\u001b[0m\u001b[1;33m\u001b[0m\u001b[1;33m\u001b[0m\u001b[0m\n",
      "\u001b[1;32m~\\AppData\\Local\\Programs\\Python\\Python37\\lib\\urllib\\request.py\u001b[0m in \u001b[0;36mhttp_open\u001b[1;34m(self, req)\u001b[0m\n\u001b[0;32m   1345\u001b[0m \u001b[1;33m\u001b[0m\u001b[0m\n\u001b[0;32m   1346\u001b[0m     \u001b[1;32mdef\u001b[0m \u001b[0mhttp_open\u001b[0m\u001b[1;33m(\u001b[0m\u001b[0mself\u001b[0m\u001b[1;33m,\u001b[0m \u001b[0mreq\u001b[0m\u001b[1;33m)\u001b[0m\u001b[1;33m:\u001b[0m\u001b[1;33m\u001b[0m\u001b[1;33m\u001b[0m\u001b[0m\n\u001b[1;32m-> 1347\u001b[1;33m         \u001b[1;32mreturn\u001b[0m \u001b[0mself\u001b[0m\u001b[1;33m.\u001b[0m\u001b[0mdo_open\u001b[0m\u001b[1;33m(\u001b[0m\u001b[0mhttp\u001b[0m\u001b[1;33m.\u001b[0m\u001b[0mclient\u001b[0m\u001b[1;33m.\u001b[0m\u001b[0mHTTPConnection\u001b[0m\u001b[1;33m,\u001b[0m \u001b[0mreq\u001b[0m\u001b[1;33m)\u001b[0m\u001b[1;33m\u001b[0m\u001b[1;33m\u001b[0m\u001b[0m\n\u001b[0m\u001b[0;32m   1348\u001b[0m \u001b[1;33m\u001b[0m\u001b[0m\n\u001b[0;32m   1349\u001b[0m     \u001b[0mhttp_request\u001b[0m \u001b[1;33m=\u001b[0m \u001b[0mAbstractHTTPHandler\u001b[0m\u001b[1;33m.\u001b[0m\u001b[0mdo_request_\u001b[0m\u001b[1;33m\u001b[0m\u001b[1;33m\u001b[0m\u001b[0m\n",
      "\u001b[1;32m~\\AppData\\Local\\Programs\\Python\\Python37\\lib\\urllib\\request.py\u001b[0m in \u001b[0;36mdo_open\u001b[1;34m(self, http_class, req, **http_conn_args)\u001b[0m\n\u001b[0;32m   1320\u001b[0m             \u001b[1;32mexcept\u001b[0m \u001b[0mOSError\u001b[0m \u001b[1;32mas\u001b[0m \u001b[0merr\u001b[0m\u001b[1;33m:\u001b[0m \u001b[1;31m# timeout error\u001b[0m\u001b[1;33m\u001b[0m\u001b[1;33m\u001b[0m\u001b[0m\n\u001b[0;32m   1321\u001b[0m                 \u001b[1;32mraise\u001b[0m \u001b[0mURLError\u001b[0m\u001b[1;33m(\u001b[0m\u001b[0merr\u001b[0m\u001b[1;33m)\u001b[0m\u001b[1;33m\u001b[0m\u001b[1;33m\u001b[0m\u001b[0m\n\u001b[1;32m-> 1322\u001b[1;33m             \u001b[0mr\u001b[0m \u001b[1;33m=\u001b[0m \u001b[0mh\u001b[0m\u001b[1;33m.\u001b[0m\u001b[0mgetresponse\u001b[0m\u001b[1;33m(\u001b[0m\u001b[1;33m)\u001b[0m\u001b[1;33m\u001b[0m\u001b[1;33m\u001b[0m\u001b[0m\n\u001b[0m\u001b[0;32m   1323\u001b[0m         \u001b[1;32mexcept\u001b[0m\u001b[1;33m:\u001b[0m\u001b[1;33m\u001b[0m\u001b[1;33m\u001b[0m\u001b[0m\n\u001b[0;32m   1324\u001b[0m             \u001b[0mh\u001b[0m\u001b[1;33m.\u001b[0m\u001b[0mclose\u001b[0m\u001b[1;33m(\u001b[0m\u001b[1;33m)\u001b[0m\u001b[1;33m\u001b[0m\u001b[1;33m\u001b[0m\u001b[0m\n",
      "\u001b[1;32m~\\AppData\\Local\\Programs\\Python\\Python37\\lib\\http\\client.py\u001b[0m in \u001b[0;36mgetresponse\u001b[1;34m(self)\u001b[0m\n\u001b[0;32m   1342\u001b[0m         \u001b[1;32mtry\u001b[0m\u001b[1;33m:\u001b[0m\u001b[1;33m\u001b[0m\u001b[1;33m\u001b[0m\u001b[0m\n\u001b[0;32m   1343\u001b[0m             \u001b[1;32mtry\u001b[0m\u001b[1;33m:\u001b[0m\u001b[1;33m\u001b[0m\u001b[1;33m\u001b[0m\u001b[0m\n\u001b[1;32m-> 1344\u001b[1;33m                 \u001b[0mresponse\u001b[0m\u001b[1;33m.\u001b[0m\u001b[0mbegin\u001b[0m\u001b[1;33m(\u001b[0m\u001b[1;33m)\u001b[0m\u001b[1;33m\u001b[0m\u001b[1;33m\u001b[0m\u001b[0m\n\u001b[0m\u001b[0;32m   1345\u001b[0m             \u001b[1;32mexcept\u001b[0m \u001b[0mConnectionError\u001b[0m\u001b[1;33m:\u001b[0m\u001b[1;33m\u001b[0m\u001b[1;33m\u001b[0m\u001b[0m\n\u001b[0;32m   1346\u001b[0m                 \u001b[0mself\u001b[0m\u001b[1;33m.\u001b[0m\u001b[0mclose\u001b[0m\u001b[1;33m(\u001b[0m\u001b[1;33m)\u001b[0m\u001b[1;33m\u001b[0m\u001b[1;33m\u001b[0m\u001b[0m\n",
      "\u001b[1;32m~\\AppData\\Local\\Programs\\Python\\Python37\\lib\\http\\client.py\u001b[0m in \u001b[0;36mbegin\u001b[1;34m(self)\u001b[0m\n\u001b[0;32m    304\u001b[0m         \u001b[1;31m# read until we get a non-100 response\u001b[0m\u001b[1;33m\u001b[0m\u001b[1;33m\u001b[0m\u001b[1;33m\u001b[0m\u001b[0m\n\u001b[0;32m    305\u001b[0m         \u001b[1;32mwhile\u001b[0m \u001b[1;32mTrue\u001b[0m\u001b[1;33m:\u001b[0m\u001b[1;33m\u001b[0m\u001b[1;33m\u001b[0m\u001b[0m\n\u001b[1;32m--> 306\u001b[1;33m             \u001b[0mversion\u001b[0m\u001b[1;33m,\u001b[0m \u001b[0mstatus\u001b[0m\u001b[1;33m,\u001b[0m \u001b[0mreason\u001b[0m \u001b[1;33m=\u001b[0m \u001b[0mself\u001b[0m\u001b[1;33m.\u001b[0m\u001b[0m_read_status\u001b[0m\u001b[1;33m(\u001b[0m\u001b[1;33m)\u001b[0m\u001b[1;33m\u001b[0m\u001b[1;33m\u001b[0m\u001b[0m\n\u001b[0m\u001b[0;32m    307\u001b[0m             \u001b[1;32mif\u001b[0m \u001b[0mstatus\u001b[0m \u001b[1;33m!=\u001b[0m \u001b[0mCONTINUE\u001b[0m\u001b[1;33m:\u001b[0m\u001b[1;33m\u001b[0m\u001b[1;33m\u001b[0m\u001b[0m\n\u001b[0;32m    308\u001b[0m                 \u001b[1;32mbreak\u001b[0m\u001b[1;33m\u001b[0m\u001b[1;33m\u001b[0m\u001b[0m\n",
      "\u001b[1;32m~\\AppData\\Local\\Programs\\Python\\Python37\\lib\\http\\client.py\u001b[0m in \u001b[0;36m_read_status\u001b[1;34m(self)\u001b[0m\n\u001b[0;32m    265\u001b[0m \u001b[1;33m\u001b[0m\u001b[0m\n\u001b[0;32m    266\u001b[0m     \u001b[1;32mdef\u001b[0m \u001b[0m_read_status\u001b[0m\u001b[1;33m(\u001b[0m\u001b[0mself\u001b[0m\u001b[1;33m)\u001b[0m\u001b[1;33m:\u001b[0m\u001b[1;33m\u001b[0m\u001b[1;33m\u001b[0m\u001b[0m\n\u001b[1;32m--> 267\u001b[1;33m         \u001b[0mline\u001b[0m \u001b[1;33m=\u001b[0m \u001b[0mstr\u001b[0m\u001b[1;33m(\u001b[0m\u001b[0mself\u001b[0m\u001b[1;33m.\u001b[0m\u001b[0mfp\u001b[0m\u001b[1;33m.\u001b[0m\u001b[0mreadline\u001b[0m\u001b[1;33m(\u001b[0m\u001b[0m_MAXLINE\u001b[0m \u001b[1;33m+\u001b[0m \u001b[1;36m1\u001b[0m\u001b[1;33m)\u001b[0m\u001b[1;33m,\u001b[0m \u001b[1;34m\"iso-8859-1\"\u001b[0m\u001b[1;33m)\u001b[0m\u001b[1;33m\u001b[0m\u001b[1;33m\u001b[0m\u001b[0m\n\u001b[0m\u001b[0;32m    268\u001b[0m         \u001b[1;32mif\u001b[0m \u001b[0mlen\u001b[0m\u001b[1;33m(\u001b[0m\u001b[0mline\u001b[0m\u001b[1;33m)\u001b[0m \u001b[1;33m>\u001b[0m \u001b[0m_MAXLINE\u001b[0m\u001b[1;33m:\u001b[0m\u001b[1;33m\u001b[0m\u001b[1;33m\u001b[0m\u001b[0m\n\u001b[0;32m    269\u001b[0m             \u001b[1;32mraise\u001b[0m \u001b[0mLineTooLong\u001b[0m\u001b[1;33m(\u001b[0m\u001b[1;34m\"status line\"\u001b[0m\u001b[1;33m)\u001b[0m\u001b[1;33m\u001b[0m\u001b[1;33m\u001b[0m\u001b[0m\n",
      "\u001b[1;32m~\\AppData\\Local\\Programs\\Python\\Python37\\lib\\socket.py\u001b[0m in \u001b[0;36mreadinto\u001b[1;34m(self, b)\u001b[0m\n\u001b[0;32m    587\u001b[0m         \u001b[1;32mwhile\u001b[0m \u001b[1;32mTrue\u001b[0m\u001b[1;33m:\u001b[0m\u001b[1;33m\u001b[0m\u001b[1;33m\u001b[0m\u001b[0m\n\u001b[0;32m    588\u001b[0m             \u001b[1;32mtry\u001b[0m\u001b[1;33m:\u001b[0m\u001b[1;33m\u001b[0m\u001b[1;33m\u001b[0m\u001b[0m\n\u001b[1;32m--> 589\u001b[1;33m                 \u001b[1;32mreturn\u001b[0m \u001b[0mself\u001b[0m\u001b[1;33m.\u001b[0m\u001b[0m_sock\u001b[0m\u001b[1;33m.\u001b[0m\u001b[0mrecv_into\u001b[0m\u001b[1;33m(\u001b[0m\u001b[0mb\u001b[0m\u001b[1;33m)\u001b[0m\u001b[1;33m\u001b[0m\u001b[1;33m\u001b[0m\u001b[0m\n\u001b[0m\u001b[0;32m    590\u001b[0m             \u001b[1;32mexcept\u001b[0m \u001b[0mtimeout\u001b[0m\u001b[1;33m:\u001b[0m\u001b[1;33m\u001b[0m\u001b[1;33m\u001b[0m\u001b[0m\n\u001b[0;32m    591\u001b[0m                 \u001b[0mself\u001b[0m\u001b[1;33m.\u001b[0m\u001b[0m_timeout_occurred\u001b[0m \u001b[1;33m=\u001b[0m \u001b[1;32mTrue\u001b[0m\u001b[1;33m\u001b[0m\u001b[1;33m\u001b[0m\u001b[0m\n",
      "\u001b[1;31mConnectionResetError\u001b[0m: [WinError 10054] Foi forçado o cancelamento de uma conexão existente pelo host remoto"
     ]
    }
   ],
   "source": [
    "df_dict = {}\n",
    "for i in df['code']:\n",
    "    code = i\n",
    "    content_url = f'http://bvmf.bmfbovespa.com.br/pt-br/mercados/acoes/empresas/ExecutaAcaoConsultaInfoEmp.asp?CodCVM={code}&ViewDoc=1&AnoDoc=2020&VersaoDoc=3&NumSeqDoc=98701#a'\n",
    "    result = pd.read_html(content_url)\n",
    "    df_dict[result[0][1][0]] = result"
   ]
  },
  {
   "cell_type": "code",
   "execution_count": 19,
   "metadata": {},
   "outputs": [
    {
     "data": {
      "text/plain": [
       "206"
      ]
     },
     "execution_count": 19,
     "metadata": {},
     "output_type": "execute_result"
    }
   ],
   "source": [
    "len(df_dict)"
   ]
  },
  {
   "cell_type": "code",
   "execution_count": 25,
   "metadata": {},
   "outputs": [
    {
     "data": {
      "text/plain": [
       "dict_keys(['3R PETROLEUM', '524 PARTICIP', 'ADVANCED-DH', 'AERIS', 'AES TIETE E', 'AFLUENTE T', 'ALEF S/A', 'ALFA HOLDING', 'ALGAR TELEC', 'ALIANSCSONAE', 'ESTAPAR', 'ALPARGATAS', 'ALPER S.A.', 'ALTERE SEC', 'ALUPAR', 'AMBEV S/A', 'AMBIPAR', 'AMPLA ENERG', 'ANIMA', 'AREZZO CO', 'CARREFOUR BR', 'ATMASA', 'ATOMPAR', 'AURA 360', 'AZEVEDO', 'AZUL', 'B2W DIGITAL', 'B3', 'BAHEMA', 'BANCO BMG', 'BANCO INTER', 'BANESTES', 'BARDELLA', 'BATTISTELLA', 'BAUMER', 'BBSEGURIDADE', 'BBMLOGISTICA', 'ABC BRASIL', 'ALFA INVEST', 'AMAZONIA', 'BRADESCO', 'BRASIL', 'BTGP BANCO', 'BANESE', 'BANPARA', 'BANRISUL', 'INDUSVAL', 'MERC INVEST', 'MERC BRASIL', 'NORD BRASIL', 'BANCO PAN', 'PINE', 'SANTANDER BR', 'BETAPART', 'BIC MONARK', 'BIOMM', 'BIOSEV', 'BK BRASIL', 'BNDESPAR', 'BOA VISTA', 'BOMBRIL', 'BR MALLS PAR', 'BR PROPERT', 'BRADESCO LSG', 'BRADESPAR', 'BR BROKERS', 'BRASILAGRO', 'BRASKEM', 'BRAZIL REALT', 'BRAZILIAN FR', 'BRAZILIAN SC', 'BRB BANCO', 'BRF SA', 'BRPR 56 SEC', 'BRQ', 'CABINDA PART', 'CACHOEIRA', 'CACONDE PART', 'CAMBUCI', 'CAMIL', 'CCR SA', 'CEA MODAS', 'CEMEPE', 'CEMIG DIST', 'CEMIG GT', 'ELETROBRAS', 'CELESC', 'ALLIAR', 'CESP', 'P.ACUCAR-CBD', 'CASAN', 'CELGPAR', 'CEG', 'COELBA', 'CEB', 'CEMIG', 'CELPE', 'COELCE', 'COSERN', 'CEEE-D', 'CEEE-GT', 'FERBASA', 'CEDRO', 'COMGAS', 'HABITASUL', 'CIA HERING', 'IND CATAGUAS', 'LOCAMERICA', 'MELHOR SP', 'COPEL', 'PAR AL BAHIA', 'PAUL F LUZ', 'CPFL PIRATIN', 'SABESP', 'COPASA', 'SANEPAR', 'SEG AL BAHIA', 'SID NACIONAL', 'COTEMINAS', 'SANTANENSE', 'CIBRASEC', 'CIELO', 'CIMS', 'CINESYSTEM', 'COGNA ON', 'CONC RAPOSO', 'GRUAIRPORT', 'ECOVIAS', 'CONC RIO TER', 'ECOPISTAS', 'VIAOESTE', 'ROD TIETE', 'RT BANDEIRAS', 'AUTOBAN', 'ODERICH', 'ALFA CONSORC', 'CONST A LIND', 'TENDA', 'COR RIBEIRO', 'COSAN LOG', 'COSAN', 'CPFL ENERGIA', 'CPFL RENOVAV', 'CPFL GERACAO', 'CR2', 'CSU CARDSYST', 'CTC S.A.', 'TRAN PAULIST', 'CURY S/A', 'CVC BRASIL', 'CYRELA REALT', 'CYRE COM-CCP', 'D1000VFARMA', 'DASA', 'DIBENS LSG', 'DIMED', 'DIRECIONAL', 'DOHLER', 'DOMMO', 'DTCOM-DIRECT', 'DURATEX', 'ECO SEC AGRO', 'ECON', 'ECORODOVIAS', 'ENERGIAS BR', 'ESCELSA', 'EBE', 'ACO ALTONA', 'ELEKTRO', 'ELETROPAR', 'ELETROPAULO', 'EMAE', 'EMBRAER', 'PAGUE MENOS', 'ECONORTE', 'ENCORPAR', 'ENAUTA PART', 'ENERSUL', 'ENERGISA MT', 'ENERGISA', 'ENEVA', 'ENGIE BRASIL', 'ENJOEI', 'EQUATORIAL', 'EQTLMARANHAO', 'EQTL PARA', 'ETERNIT', 'EUCATEX', 'EVEN', 'EXCELSIOR', 'EZTEC', 'FGENERGIA', 'FER C ATLANT', 'FER HERINGER', 'ALFA FINANC', 'FINANSINOS', 'FLEURY', 'FLEX S/A', 'FRAS-LE', 'GAFISA', 'GAIA AGRO', 'GAIA SECURIT', 'GAMA PART', 'GENERALSHOPP', 'GERDAU', 'GOL'])"
      ]
     },
     "execution_count": 25,
     "metadata": {},
     "output_type": "execute_result"
    }
   ],
   "source": [
    "df_dict.keys()"
   ]
  },
  {
   "cell_type": "code",
   "execution_count": 38,
   "metadata": {},
   "outputs": [
    {
     "data": {
      "text/html": [
       "<div>\n",
       "<style scoped>\n",
       "    .dataframe tbody tr th:only-of-type {\n",
       "        vertical-align: middle;\n",
       "    }\n",
       "\n",
       "    .dataframe tbody tr th {\n",
       "        vertical-align: top;\n",
       "    }\n",
       "\n",
       "    .dataframe thead th {\n",
       "        text-align: right;\n",
       "    }\n",
       "</style>\n",
       "<table border=\"1\" class=\"dataframe\">\n",
       "  <thead>\n",
       "    <tr style=\"text-align: right;\">\n",
       "      <th></th>\n",
       "      <th>0</th>\n",
       "      <th>1</th>\n",
       "    </tr>\n",
       "  </thead>\n",
       "  <tbody>\n",
       "    <tr>\n",
       "      <th>0</th>\n",
       "      <td>Nome de Pregão:</td>\n",
       "      <td>GERDAU</td>\n",
       "    </tr>\n",
       "    <tr>\n",
       "      <th>1</th>\n",
       "      <td>Códigos de Negociação:</td>\n",
       "      <td>Mais Códigos  GGBR3; GGBR4  GGBR3;  Códigos IS...</td>\n",
       "    </tr>\n",
       "    <tr>\n",
       "      <th>2</th>\n",
       "      <td>CNPJ:</td>\n",
       "      <td>33.611.500/0001-19</td>\n",
       "    </tr>\n",
       "    <tr>\n",
       "      <th>3</th>\n",
       "      <td>Atividade Principal:</td>\n",
       "      <td>Participação E Administração</td>\n",
       "    </tr>\n",
       "    <tr>\n",
       "      <th>4</th>\n",
       "      <td>Classificação Setorial:</td>\n",
       "      <td>Materiais Básicos / Siderurgia e Metalurgia / ...</td>\n",
       "    </tr>\n",
       "    <tr>\n",
       "      <th>5</th>\n",
       "      <td>Site:</td>\n",
       "      <td>www.gerdau.com</td>\n",
       "    </tr>\n",
       "  </tbody>\n",
       "</table>\n",
       "</div>"
      ],
      "text/plain": [
       "                         0                                                  1\n",
       "0          Nome de Pregão:                                             GERDAU\n",
       "1   Códigos de Negociação:  Mais Códigos  GGBR3; GGBR4  GGBR3;  Códigos IS...\n",
       "2                    CNPJ:                                 33.611.500/0001-19\n",
       "3     Atividade Principal:                       Participação E Administração\n",
       "4  Classificação Setorial:  Materiais Básicos / Siderurgia e Metalurgia / ...\n",
       "5                    Site:                                     www.gerdau.com"
      ]
     },
     "execution_count": 38,
     "metadata": {},
     "output_type": "execute_result"
    }
   ],
   "source": [
    "df_dict['GERDAU'][0]"
   ]
  },
  {
   "cell_type": "code",
   "execution_count": 35,
   "metadata": {},
   "outputs": [
    {
     "ename": "SyntaxError",
     "evalue": "invalid syntax (<ipython-input-35-2f219c216e69>, line 1)",
     "output_type": "error",
     "traceback": [
      "\u001b[1;36m  File \u001b[1;32m\"<ipython-input-35-2f219c216e69>\"\u001b[1;36m, line \u001b[1;32m1\u001b[0m\n\u001b[1;33m    pd.DataFrame(df_dict.1)\u001b[0m\n\u001b[1;37m                         ^\u001b[0m\n\u001b[1;31mSyntaxError\u001b[0m\u001b[1;31m:\u001b[0m invalid syntax\n"
     ]
    }
   ],
   "source": [
    "pd.DataFrame(df_dict)"
   ]
  },
  {
   "cell_type": "code",
   "execution_count": 32,
   "metadata": {},
   "outputs": [
    {
     "ename": "TypeError",
     "evalue": "write() argument must be str, not bytes",
     "output_type": "error",
     "traceback": [
      "\u001b[1;31m---------------------------------------------------------------------------\u001b[0m",
      "\u001b[1;31mTypeError\u001b[0m                                 Traceback (most recent call last)",
      "\u001b[1;32m<ipython-input-32-cda7694c354c>\u001b[0m in \u001b[0;36m<module>\u001b[1;34m\u001b[0m\n\u001b[0;32m      2\u001b[0m \u001b[1;33m\u001b[0m\u001b[0m\n\u001b[0;32m      3\u001b[0m \u001b[1;32mwith\u001b[0m \u001b[0mopen\u001b[0m\u001b[1;33m(\u001b[0m\u001b[1;34m'bovespa_empresas.json'\u001b[0m\u001b[1;33m,\u001b[0m \u001b[1;34m'w'\u001b[0m\u001b[1;33m)\u001b[0m \u001b[1;32mas\u001b[0m \u001b[0mfile\u001b[0m\u001b[1;33m:\u001b[0m\u001b[1;33m\u001b[0m\u001b[1;33m\u001b[0m\u001b[0m\n\u001b[1;32m----> 4\u001b[1;33m      \u001b[0mfile\u001b[0m\u001b[1;33m.\u001b[0m\u001b[0mwrite\u001b[0m\u001b[1;33m(\u001b[0m\u001b[0mpickle\u001b[0m\u001b[1;33m.\u001b[0m\u001b[0mdumps\u001b[0m\u001b[1;33m(\u001b[0m\u001b[0mdf_dict\u001b[0m\u001b[1;33m)\u001b[0m\u001b[1;33m)\u001b[0m\u001b[1;33m\u001b[0m\u001b[1;33m\u001b[0m\u001b[0m\n\u001b[0m",
      "\u001b[1;31mTypeError\u001b[0m: write() argument must be str, not bytes"
     ]
    }
   ],
   "source": [
    "import _pickle as pickle\n",
    "\n",
    "with open('bovespa_empresas.json', 'w') as file:\n",
    "     file.write(pickle.dumps(df_dict))"
   ]
  },
  {
   "cell_type": "code",
   "execution_count": null,
   "metadata": {},
   "outputs": [],
   "source": []
  }
 ],
 "metadata": {
  "kernelspec": {
   "display_name": "Python 3",
   "language": "python",
   "name": "python3"
  },
  "language_info": {
   "codemirror_mode": {
    "name": "ipython",
    "version": 3
   },
   "file_extension": ".py",
   "mimetype": "text/x-python",
   "name": "python",
   "nbconvert_exporter": "python",
   "pygments_lexer": "ipython3",
   "version": "3.7.7"
  },
  "toc": {
   "base_numbering": 1,
   "nav_menu": {},
   "number_sections": true,
   "sideBar": true,
   "skip_h1_title": false,
   "title_cell": "Table of Contents",
   "title_sidebar": "Contents",
   "toc_cell": false,
   "toc_position": {},
   "toc_section_display": true,
   "toc_window_display": false
  },
  "varInspector": {
   "cols": {
    "lenName": 16,
    "lenType": 16,
    "lenVar": 40
   },
   "kernels_config": {
    "python": {
     "delete_cmd_postfix": "",
     "delete_cmd_prefix": "del ",
     "library": "var_list.py",
     "varRefreshCmd": "print(var_dic_list())"
    },
    "r": {
     "delete_cmd_postfix": ") ",
     "delete_cmd_prefix": "rm(",
     "library": "var_list.r",
     "varRefreshCmd": "cat(var_dic_list()) "
    }
   },
   "types_to_exclude": [
    "module",
    "function",
    "builtin_function_or_method",
    "instance",
    "_Feature"
   ],
   "window_display": false
  }
 },
 "nbformat": 4,
 "nbformat_minor": 4
}
