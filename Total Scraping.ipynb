{
 "cells": [
  {
   "cell_type": "code",
   "execution_count": 28,
   "metadata": {},
   "outputs": [],
   "source": [
    "from selenium import webdriver\n",
    "from selenium.webdriver.support.ui import WebDriverWait\n",
    "import chromedriver_binary\n",
    "import pandas as pd\n",
    "from selenium.webdriver.chrome.options import Options"
   ]
  },
  {
   "cell_type": "code",
   "execution_count": 29,
   "metadata": {},
   "outputs": [],
   "source": [
    "df = pd.read_csv('data/urls_for_2018-2016_scraping.csv').rename(columns= {'Unnamed: 0':'Empresas'}).set_index('Empresas')"
   ]
  },
  {
   "cell_type": "code",
   "execution_count": 30,
   "metadata": {
    "scrolled": true
   },
   "outputs": [
    {
     "data": {
      "text/html": [
       "<div>\n",
       "<style scoped>\n",
       "    .dataframe tbody tr th:only-of-type {\n",
       "        vertical-align: middle;\n",
       "    }\n",
       "\n",
       "    .dataframe tbody tr th {\n",
       "        vertical-align: top;\n",
       "    }\n",
       "\n",
       "    .dataframe thead th {\n",
       "        text-align: right;\n",
       "    }\n",
       "</style>\n",
       "<table border=\"1\" class=\"dataframe\">\n",
       "  <thead>\n",
       "    <tr style=\"text-align: right;\">\n",
       "      <th></th>\n",
       "      <th>0</th>\n",
       "      <th>1</th>\n",
       "      <th>2</th>\n",
       "      <th>3</th>\n",
       "      <th>4</th>\n",
       "      <th>5</th>\n",
       "      <th>6</th>\n",
       "      <th>7</th>\n",
       "      <th>8</th>\n",
       "      <th>9</th>\n",
       "      <th>10</th>\n",
       "      <th>11</th>\n",
       "      <th>12</th>\n",
       "      <th>13</th>\n",
       "      <th>14</th>\n",
       "      <th>15</th>\n",
       "      <th>16</th>\n",
       "    </tr>\n",
       "    <tr>\n",
       "      <th>Empresas</th>\n",
       "      <th></th>\n",
       "      <th></th>\n",
       "      <th></th>\n",
       "      <th></th>\n",
       "      <th></th>\n",
       "      <th></th>\n",
       "      <th></th>\n",
       "      <th></th>\n",
       "      <th></th>\n",
       "      <th></th>\n",
       "      <th></th>\n",
       "      <th></th>\n",
       "      <th></th>\n",
       "      <th></th>\n",
       "      <th></th>\n",
       "      <th></th>\n",
       "      <th></th>\n",
       "    </tr>\n",
       "  </thead>\n",
       "  <tbody>\n",
       "    <tr>\n",
       "      <th>3R PETROLEUM ÓLEO E GÁS S.A</th>\n",
       "      <td>http://www.rad.cvm.gov.br/ENETCONSULTA/frmGere...</td>\n",
       "      <td>http://www.rad.cvm.gov.br/ENETCONSULTA/frmGere...</td>\n",
       "      <td>http://www.rad.cvm.gov.br/ENETCONSULTA/frmGere...</td>\n",
       "      <td>NaN</td>\n",
       "      <td>NaN</td>\n",
       "      <td>NaN</td>\n",
       "      <td>NaN</td>\n",
       "      <td>NaN</td>\n",
       "      <td>NaN</td>\n",
       "      <td>NaN</td>\n",
       "      <td>NaN</td>\n",
       "      <td>NaN</td>\n",
       "      <td>NaN</td>\n",
       "      <td>NaN</td>\n",
       "      <td>NaN</td>\n",
       "      <td>NaN</td>\n",
       "      <td>NaN</td>\n",
       "    </tr>\n",
       "    <tr>\n",
       "      <th>524 PARTICIPACOES S.A.</th>\n",
       "      <td>http://www.rad.cvm.gov.br/ENETCONSULTA/frmGere...</td>\n",
       "      <td>http://www.rad.cvm.gov.br/ENETCONSULTA/frmGere...</td>\n",
       "      <td>http://www.rad.cvm.gov.br/ENETCONSULTA/frmGere...</td>\n",
       "      <td>http://www.rad.cvm.gov.br/ENETCONSULTA/frmGere...</td>\n",
       "      <td>http://www.rad.cvm.gov.br/ENETCONSULTA/frmGere...</td>\n",
       "      <td>http://www.rad.cvm.gov.br/ENETCONSULTA/frmGere...</td>\n",
       "      <td>http://www.rad.cvm.gov.br/ENETCONSULTA/frmGere...</td>\n",
       "      <td>http://www.rad.cvm.gov.br/ENETCONSULTA/frmGere...</td>\n",
       "      <td>http://www.rad.cvm.gov.br/ENETCONSULTA/frmGere...</td>\n",
       "      <td>http://www.rad.cvm.gov.br/ENETCONSULTA/frmGere...</td>\n",
       "      <td>http://www.rad.cvm.gov.br/ENETCONSULTA/frmGere...</td>\n",
       "      <td>http://www.rad.cvm.gov.br/ENETCONSULTA/frmGere...</td>\n",
       "      <td>http://www.rad.cvm.gov.br/ENETCONSULTA/frmGere...</td>\n",
       "      <td>http://www.rad.cvm.gov.br/ENETCONSULTA/frmGere...</td>\n",
       "      <td>http://www.rad.cvm.gov.br/ENETCONSULTA/frmGere...</td>\n",
       "      <td>http://www.rad.cvm.gov.br/ENETCONSULTA/frmGere...</td>\n",
       "      <td>http://www.rad.cvm.gov.br/ENETCONSULTA/frmGere...</td>\n",
       "    </tr>\n",
       "    <tr>\n",
       "      <th>ADVANCED DIGITAL HEALTH MEDICINA PREVENTIVA S.A.</th>\n",
       "      <td>http://www.rad.cvm.gov.br/ENETCONSULTA/frmGere...</td>\n",
       "      <td>http://www.rad.cvm.gov.br/ENETCONSULTA/frmGere...</td>\n",
       "      <td>http://www.rad.cvm.gov.br/ENETCONSULTA/frmGere...</td>\n",
       "      <td>http://www.rad.cvm.gov.br/ENETCONSULTA/frmGere...</td>\n",
       "      <td>http://www.rad.cvm.gov.br/ENETCONSULTA/frmGere...</td>\n",
       "      <td>http://www.rad.cvm.gov.br/ENETCONSULTA/frmGere...</td>\n",
       "      <td>http://www.rad.cvm.gov.br/ENETCONSULTA/frmGere...</td>\n",
       "      <td>http://www.rad.cvm.gov.br/ENETCONSULTA/frmGere...</td>\n",
       "      <td>http://www.rad.cvm.gov.br/ENETCONSULTA/frmGere...</td>\n",
       "      <td>http://www.rad.cvm.gov.br/ENETCONSULTA/frmGere...</td>\n",
       "      <td>http://www.rad.cvm.gov.br/ENETCONSULTA/frmGere...</td>\n",
       "      <td>http://www.rad.cvm.gov.br/ENETCONSULTA/frmGere...</td>\n",
       "      <td>http://www.rad.cvm.gov.br/ENETCONSULTA/frmGere...</td>\n",
       "      <td>http://www.rad.cvm.gov.br/ENETCONSULTA/frmGere...</td>\n",
       "      <td>http://www.rad.cvm.gov.br/ENETCONSULTA/frmGere...</td>\n",
       "      <td>http://www.rad.cvm.gov.br/ENETCONSULTA/frmGere...</td>\n",
       "      <td>http://www.rad.cvm.gov.br/ENETCONSULTA/frmGere...</td>\n",
       "    </tr>\n",
       "    <tr>\n",
       "      <th>AERIS IND. E COM. DE EQUIP. GERACAO DE ENERGIA S/A</th>\n",
       "      <td>http://www.rad.cvm.gov.br/ENETCONSULTA/frmGere...</td>\n",
       "      <td>http://www.rad.cvm.gov.br/ENETCONSULTA/frmGere...</td>\n",
       "      <td>http://www.rad.cvm.gov.br/ENETCONSULTA/frmGere...</td>\n",
       "      <td>http://www.rad.cvm.gov.br/ENETCONSULTA/frmGere...</td>\n",
       "      <td>NaN</td>\n",
       "      <td>NaN</td>\n",
       "      <td>NaN</td>\n",
       "      <td>NaN</td>\n",
       "      <td>NaN</td>\n",
       "      <td>NaN</td>\n",
       "      <td>NaN</td>\n",
       "      <td>NaN</td>\n",
       "      <td>NaN</td>\n",
       "      <td>NaN</td>\n",
       "      <td>NaN</td>\n",
       "      <td>NaN</td>\n",
       "      <td>NaN</td>\n",
       "    </tr>\n",
       "    <tr>\n",
       "      <th>AES TIETE ENERGIA SA</th>\n",
       "      <td>http://www.rad.cvm.gov.br/ENETCONSULTA/frmGere...</td>\n",
       "      <td>http://www.rad.cvm.gov.br/ENETCONSULTA/frmGere...</td>\n",
       "      <td>http://www.rad.cvm.gov.br/ENETCONSULTA/frmGere...</td>\n",
       "      <td>http://www.rad.cvm.gov.br/ENETCONSULTA/frmGere...</td>\n",
       "      <td>http://www.rad.cvm.gov.br/ENETCONSULTA/frmGere...</td>\n",
       "      <td>http://www.rad.cvm.gov.br/ENETCONSULTA/frmGere...</td>\n",
       "      <td>http://www.rad.cvm.gov.br/ENETCONSULTA/frmGere...</td>\n",
       "      <td>http://www.rad.cvm.gov.br/ENETCONSULTA/frmGere...</td>\n",
       "      <td>http://www.rad.cvm.gov.br/ENETCONSULTA/frmGere...</td>\n",
       "      <td>http://www.rad.cvm.gov.br/ENETCONSULTA/frmGere...</td>\n",
       "      <td>http://www.rad.cvm.gov.br/ENETCONSULTA/frmGere...</td>\n",
       "      <td>http://www.rad.cvm.gov.br/ENETCONSULTA/frmGere...</td>\n",
       "      <td>http://www.rad.cvm.gov.br/ENETCONSULTA/frmGere...</td>\n",
       "      <td>http://www.rad.cvm.gov.br/ENETCONSULTA/frmGere...</td>\n",
       "      <td>http://www.rad.cvm.gov.br/ENETCONSULTA/frmGere...</td>\n",
       "      <td>http://www.rad.cvm.gov.br/ENETCONSULTA/frmGere...</td>\n",
       "      <td>http://www.rad.cvm.gov.br/ENETCONSULTA/frmGere...</td>\n",
       "    </tr>\n",
       "  </tbody>\n",
       "</table>\n",
       "</div>"
      ],
      "text/plain": [
       "                                                                                                    0  \\\n",
       "Empresas                                                                                                \n",
       "3R PETROLEUM ÓLEO E GÁS S.A                         http://www.rad.cvm.gov.br/ENETCONSULTA/frmGere...   \n",
       "524 PARTICIPACOES S.A.                              http://www.rad.cvm.gov.br/ENETCONSULTA/frmGere...   \n",
       "ADVANCED DIGITAL HEALTH MEDICINA PREVENTIVA S.A.    http://www.rad.cvm.gov.br/ENETCONSULTA/frmGere...   \n",
       "AERIS IND. E COM. DE EQUIP. GERACAO DE ENERGIA S/A  http://www.rad.cvm.gov.br/ENETCONSULTA/frmGere...   \n",
       "AES TIETE ENERGIA SA                                http://www.rad.cvm.gov.br/ENETCONSULTA/frmGere...   \n",
       "\n",
       "                                                                                                    1  \\\n",
       "Empresas                                                                                                \n",
       "3R PETROLEUM ÓLEO E GÁS S.A                         http://www.rad.cvm.gov.br/ENETCONSULTA/frmGere...   \n",
       "524 PARTICIPACOES S.A.                              http://www.rad.cvm.gov.br/ENETCONSULTA/frmGere...   \n",
       "ADVANCED DIGITAL HEALTH MEDICINA PREVENTIVA S.A.    http://www.rad.cvm.gov.br/ENETCONSULTA/frmGere...   \n",
       "AERIS IND. E COM. DE EQUIP. GERACAO DE ENERGIA S/A  http://www.rad.cvm.gov.br/ENETCONSULTA/frmGere...   \n",
       "AES TIETE ENERGIA SA                                http://www.rad.cvm.gov.br/ENETCONSULTA/frmGere...   \n",
       "\n",
       "                                                                                                    2  \\\n",
       "Empresas                                                                                                \n",
       "3R PETROLEUM ÓLEO E GÁS S.A                         http://www.rad.cvm.gov.br/ENETCONSULTA/frmGere...   \n",
       "524 PARTICIPACOES S.A.                              http://www.rad.cvm.gov.br/ENETCONSULTA/frmGere...   \n",
       "ADVANCED DIGITAL HEALTH MEDICINA PREVENTIVA S.A.    http://www.rad.cvm.gov.br/ENETCONSULTA/frmGere...   \n",
       "AERIS IND. E COM. DE EQUIP. GERACAO DE ENERGIA S/A  http://www.rad.cvm.gov.br/ENETCONSULTA/frmGere...   \n",
       "AES TIETE ENERGIA SA                                http://www.rad.cvm.gov.br/ENETCONSULTA/frmGere...   \n",
       "\n",
       "                                                                                                    3  \\\n",
       "Empresas                                                                                                \n",
       "3R PETROLEUM ÓLEO E GÁS S.A                                                                       NaN   \n",
       "524 PARTICIPACOES S.A.                              http://www.rad.cvm.gov.br/ENETCONSULTA/frmGere...   \n",
       "ADVANCED DIGITAL HEALTH MEDICINA PREVENTIVA S.A.    http://www.rad.cvm.gov.br/ENETCONSULTA/frmGere...   \n",
       "AERIS IND. E COM. DE EQUIP. GERACAO DE ENERGIA S/A  http://www.rad.cvm.gov.br/ENETCONSULTA/frmGere...   \n",
       "AES TIETE ENERGIA SA                                http://www.rad.cvm.gov.br/ENETCONSULTA/frmGere...   \n",
       "\n",
       "                                                                                                    4  \\\n",
       "Empresas                                                                                                \n",
       "3R PETROLEUM ÓLEO E GÁS S.A                                                                       NaN   \n",
       "524 PARTICIPACOES S.A.                              http://www.rad.cvm.gov.br/ENETCONSULTA/frmGere...   \n",
       "ADVANCED DIGITAL HEALTH MEDICINA PREVENTIVA S.A.    http://www.rad.cvm.gov.br/ENETCONSULTA/frmGere...   \n",
       "AERIS IND. E COM. DE EQUIP. GERACAO DE ENERGIA S/A                                                NaN   \n",
       "AES TIETE ENERGIA SA                                http://www.rad.cvm.gov.br/ENETCONSULTA/frmGere...   \n",
       "\n",
       "                                                                                                    5  \\\n",
       "Empresas                                                                                                \n",
       "3R PETROLEUM ÓLEO E GÁS S.A                                                                       NaN   \n",
       "524 PARTICIPACOES S.A.                              http://www.rad.cvm.gov.br/ENETCONSULTA/frmGere...   \n",
       "ADVANCED DIGITAL HEALTH MEDICINA PREVENTIVA S.A.    http://www.rad.cvm.gov.br/ENETCONSULTA/frmGere...   \n",
       "AERIS IND. E COM. DE EQUIP. GERACAO DE ENERGIA S/A                                                NaN   \n",
       "AES TIETE ENERGIA SA                                http://www.rad.cvm.gov.br/ENETCONSULTA/frmGere...   \n",
       "\n",
       "                                                                                                    6  \\\n",
       "Empresas                                                                                                \n",
       "3R PETROLEUM ÓLEO E GÁS S.A                                                                       NaN   \n",
       "524 PARTICIPACOES S.A.                              http://www.rad.cvm.gov.br/ENETCONSULTA/frmGere...   \n",
       "ADVANCED DIGITAL HEALTH MEDICINA PREVENTIVA S.A.    http://www.rad.cvm.gov.br/ENETCONSULTA/frmGere...   \n",
       "AERIS IND. E COM. DE EQUIP. GERACAO DE ENERGIA S/A                                                NaN   \n",
       "AES TIETE ENERGIA SA                                http://www.rad.cvm.gov.br/ENETCONSULTA/frmGere...   \n",
       "\n",
       "                                                                                                    7  \\\n",
       "Empresas                                                                                                \n",
       "3R PETROLEUM ÓLEO E GÁS S.A                                                                       NaN   \n",
       "524 PARTICIPACOES S.A.                              http://www.rad.cvm.gov.br/ENETCONSULTA/frmGere...   \n",
       "ADVANCED DIGITAL HEALTH MEDICINA PREVENTIVA S.A.    http://www.rad.cvm.gov.br/ENETCONSULTA/frmGere...   \n",
       "AERIS IND. E COM. DE EQUIP. GERACAO DE ENERGIA S/A                                                NaN   \n",
       "AES TIETE ENERGIA SA                                http://www.rad.cvm.gov.br/ENETCONSULTA/frmGere...   \n",
       "\n",
       "                                                                                                    8  \\\n",
       "Empresas                                                                                                \n",
       "3R PETROLEUM ÓLEO E GÁS S.A                                                                       NaN   \n",
       "524 PARTICIPACOES S.A.                              http://www.rad.cvm.gov.br/ENETCONSULTA/frmGere...   \n",
       "ADVANCED DIGITAL HEALTH MEDICINA PREVENTIVA S.A.    http://www.rad.cvm.gov.br/ENETCONSULTA/frmGere...   \n",
       "AERIS IND. E COM. DE EQUIP. GERACAO DE ENERGIA S/A                                                NaN   \n",
       "AES TIETE ENERGIA SA                                http://www.rad.cvm.gov.br/ENETCONSULTA/frmGere...   \n",
       "\n",
       "                                                                                                    9  \\\n",
       "Empresas                                                                                                \n",
       "3R PETROLEUM ÓLEO E GÁS S.A                                                                       NaN   \n",
       "524 PARTICIPACOES S.A.                              http://www.rad.cvm.gov.br/ENETCONSULTA/frmGere...   \n",
       "ADVANCED DIGITAL HEALTH MEDICINA PREVENTIVA S.A.    http://www.rad.cvm.gov.br/ENETCONSULTA/frmGere...   \n",
       "AERIS IND. E COM. DE EQUIP. GERACAO DE ENERGIA S/A                                                NaN   \n",
       "AES TIETE ENERGIA SA                                http://www.rad.cvm.gov.br/ENETCONSULTA/frmGere...   \n",
       "\n",
       "                                                                                                   10  \\\n",
       "Empresas                                                                                                \n",
       "3R PETROLEUM ÓLEO E GÁS S.A                                                                       NaN   \n",
       "524 PARTICIPACOES S.A.                              http://www.rad.cvm.gov.br/ENETCONSULTA/frmGere...   \n",
       "ADVANCED DIGITAL HEALTH MEDICINA PREVENTIVA S.A.    http://www.rad.cvm.gov.br/ENETCONSULTA/frmGere...   \n",
       "AERIS IND. E COM. DE EQUIP. GERACAO DE ENERGIA S/A                                                NaN   \n",
       "AES TIETE ENERGIA SA                                http://www.rad.cvm.gov.br/ENETCONSULTA/frmGere...   \n",
       "\n",
       "                                                                                                   11  \\\n",
       "Empresas                                                                                                \n",
       "3R PETROLEUM ÓLEO E GÁS S.A                                                                       NaN   \n",
       "524 PARTICIPACOES S.A.                              http://www.rad.cvm.gov.br/ENETCONSULTA/frmGere...   \n",
       "ADVANCED DIGITAL HEALTH MEDICINA PREVENTIVA S.A.    http://www.rad.cvm.gov.br/ENETCONSULTA/frmGere...   \n",
       "AERIS IND. E COM. DE EQUIP. GERACAO DE ENERGIA S/A                                                NaN   \n",
       "AES TIETE ENERGIA SA                                http://www.rad.cvm.gov.br/ENETCONSULTA/frmGere...   \n",
       "\n",
       "                                                                                                   12  \\\n",
       "Empresas                                                                                                \n",
       "3R PETROLEUM ÓLEO E GÁS S.A                                                                       NaN   \n",
       "524 PARTICIPACOES S.A.                              http://www.rad.cvm.gov.br/ENETCONSULTA/frmGere...   \n",
       "ADVANCED DIGITAL HEALTH MEDICINA PREVENTIVA S.A.    http://www.rad.cvm.gov.br/ENETCONSULTA/frmGere...   \n",
       "AERIS IND. E COM. DE EQUIP. GERACAO DE ENERGIA S/A                                                NaN   \n",
       "AES TIETE ENERGIA SA                                http://www.rad.cvm.gov.br/ENETCONSULTA/frmGere...   \n",
       "\n",
       "                                                                                                   13  \\\n",
       "Empresas                                                                                                \n",
       "3R PETROLEUM ÓLEO E GÁS S.A                                                                       NaN   \n",
       "524 PARTICIPACOES S.A.                              http://www.rad.cvm.gov.br/ENETCONSULTA/frmGere...   \n",
       "ADVANCED DIGITAL HEALTH MEDICINA PREVENTIVA S.A.    http://www.rad.cvm.gov.br/ENETCONSULTA/frmGere...   \n",
       "AERIS IND. E COM. DE EQUIP. GERACAO DE ENERGIA S/A                                                NaN   \n",
       "AES TIETE ENERGIA SA                                http://www.rad.cvm.gov.br/ENETCONSULTA/frmGere...   \n",
       "\n",
       "                                                                                                   14  \\\n",
       "Empresas                                                                                                \n",
       "3R PETROLEUM ÓLEO E GÁS S.A                                                                       NaN   \n",
       "524 PARTICIPACOES S.A.                              http://www.rad.cvm.gov.br/ENETCONSULTA/frmGere...   \n",
       "ADVANCED DIGITAL HEALTH MEDICINA PREVENTIVA S.A.    http://www.rad.cvm.gov.br/ENETCONSULTA/frmGere...   \n",
       "AERIS IND. E COM. DE EQUIP. GERACAO DE ENERGIA S/A                                                NaN   \n",
       "AES TIETE ENERGIA SA                                http://www.rad.cvm.gov.br/ENETCONSULTA/frmGere...   \n",
       "\n",
       "                                                                                                   15  \\\n",
       "Empresas                                                                                                \n",
       "3R PETROLEUM ÓLEO E GÁS S.A                                                                       NaN   \n",
       "524 PARTICIPACOES S.A.                              http://www.rad.cvm.gov.br/ENETCONSULTA/frmGere...   \n",
       "ADVANCED DIGITAL HEALTH MEDICINA PREVENTIVA S.A.    http://www.rad.cvm.gov.br/ENETCONSULTA/frmGere...   \n",
       "AERIS IND. E COM. DE EQUIP. GERACAO DE ENERGIA S/A                                                NaN   \n",
       "AES TIETE ENERGIA SA                                http://www.rad.cvm.gov.br/ENETCONSULTA/frmGere...   \n",
       "\n",
       "                                                                                                   16  \n",
       "Empresas                                                                                               \n",
       "3R PETROLEUM ÓLEO E GÁS S.A                                                                       NaN  \n",
       "524 PARTICIPACOES S.A.                              http://www.rad.cvm.gov.br/ENETCONSULTA/frmGere...  \n",
       "ADVANCED DIGITAL HEALTH MEDICINA PREVENTIVA S.A.    http://www.rad.cvm.gov.br/ENETCONSULTA/frmGere...  \n",
       "AERIS IND. E COM. DE EQUIP. GERACAO DE ENERGIA S/A                                                NaN  \n",
       "AES TIETE ENERGIA SA                                http://www.rad.cvm.gov.br/ENETCONSULTA/frmGere...  "
      ]
     },
     "execution_count": 30,
     "metadata": {},
     "output_type": "execute_result"
    }
   ],
   "source": [
    "df.head()"
   ]
  },
  {
   "cell_type": "code",
   "execution_count": 31,
   "metadata": {},
   "outputs": [
    {
     "data": {
      "text/plain": [
       "434"
      ]
     },
     "execution_count": 31,
     "metadata": {},
     "output_type": "execute_result"
    }
   ],
   "source": [
    "len(df)"
   ]
  },
  {
   "cell_type": "code",
   "execution_count": 32,
   "metadata": {},
   "outputs": [
    {
     "data": {
      "text/plain": [
       "0      0\n",
       "1      0\n",
       "2      0\n",
       "3     10\n",
       "4     20\n",
       "5     20\n",
       "6     25\n",
       "7     26\n",
       "8     27\n",
       "9     29\n",
       "10    32\n",
       "11    33\n",
       "12    36\n",
       "13    40\n",
       "14    44\n",
       "15    46\n",
       "16    47\n",
       "dtype: int64"
      ]
     },
     "execution_count": 32,
     "metadata": {},
     "output_type": "execute_result"
    }
   ],
   "source": [
    "df.isnull().sum()"
   ]
  },
  {
   "cell_type": "code",
   "execution_count": 59,
   "metadata": {},
   "outputs": [
    {
     "data": {
      "text/plain": [
       "'http://www.rad.cvm.gov.br/ENETCONSULTA/frmGerenciaPaginaFRE.aspx?NumeroSequencialDocumento=98549&CodigoTipoInstituicao=2'"
      ]
     },
     "execution_count": 59,
     "metadata": {},
     "output_type": "execute_result"
    }
   ],
   "source": [
    "df['0']['524 PARTICIPACOES S.A.']"
   ]
  },
  {
   "cell_type": "code",
   "execution_count": 60,
   "metadata": {},
   "outputs": [
    {
     "ename": "KeyError",
     "evalue": "\"['16'] not found in axis\"",
     "output_type": "error",
     "traceback": [
      "\u001b[1;31m---------------------------------------------------------------------------\u001b[0m",
      "\u001b[1;31mKeyError\u001b[0m                                  Traceback (most recent call last)",
      "\u001b[1;32m<ipython-input-60-c6dbdeb69681>\u001b[0m in \u001b[0;36m<module>\u001b[1;34m\u001b[0m\n\u001b[1;32m----> 1\u001b[1;33m \u001b[0mdf\u001b[0m\u001b[1;33m.\u001b[0m\u001b[0mdrop\u001b[0m\u001b[1;33m(\u001b[0m\u001b[0mcolumns\u001b[0m\u001b[1;33m=\u001b[0m\u001b[1;34m'16'\u001b[0m\u001b[1;33m,\u001b[0m \u001b[0minplace\u001b[0m\u001b[1;33m=\u001b[0m\u001b[1;32mTrue\u001b[0m\u001b[1;33m)\u001b[0m\u001b[1;33m\u001b[0m\u001b[1;33m\u001b[0m\u001b[0m\n\u001b[0m",
      "\u001b[1;32mc:\\users\\amand\\.venvs\\lewagon\\lib\\site-packages\\pandas\\core\\frame.py\u001b[0m in \u001b[0;36mdrop\u001b[1;34m(self, labels, axis, index, columns, level, inplace, errors)\u001b[0m\n\u001b[0;32m   4172\u001b[0m             \u001b[0mlevel\u001b[0m\u001b[1;33m=\u001b[0m\u001b[0mlevel\u001b[0m\u001b[1;33m,\u001b[0m\u001b[1;33m\u001b[0m\u001b[1;33m\u001b[0m\u001b[0m\n\u001b[0;32m   4173\u001b[0m             \u001b[0minplace\u001b[0m\u001b[1;33m=\u001b[0m\u001b[0minplace\u001b[0m\u001b[1;33m,\u001b[0m\u001b[1;33m\u001b[0m\u001b[1;33m\u001b[0m\u001b[0m\n\u001b[1;32m-> 4174\u001b[1;33m             \u001b[0merrors\u001b[0m\u001b[1;33m=\u001b[0m\u001b[0merrors\u001b[0m\u001b[1;33m,\u001b[0m\u001b[1;33m\u001b[0m\u001b[1;33m\u001b[0m\u001b[0m\n\u001b[0m\u001b[0;32m   4175\u001b[0m         )\n\u001b[0;32m   4176\u001b[0m \u001b[1;33m\u001b[0m\u001b[0m\n",
      "\u001b[1;32mc:\\users\\amand\\.venvs\\lewagon\\lib\\site-packages\\pandas\\core\\generic.py\u001b[0m in \u001b[0;36mdrop\u001b[1;34m(self, labels, axis, index, columns, level, inplace, errors)\u001b[0m\n\u001b[0;32m   3885\u001b[0m         \u001b[1;32mfor\u001b[0m \u001b[0maxis\u001b[0m\u001b[1;33m,\u001b[0m \u001b[0mlabels\u001b[0m \u001b[1;32min\u001b[0m \u001b[0maxes\u001b[0m\u001b[1;33m.\u001b[0m\u001b[0mitems\u001b[0m\u001b[1;33m(\u001b[0m\u001b[1;33m)\u001b[0m\u001b[1;33m:\u001b[0m\u001b[1;33m\u001b[0m\u001b[1;33m\u001b[0m\u001b[0m\n\u001b[0;32m   3886\u001b[0m             \u001b[1;32mif\u001b[0m \u001b[0mlabels\u001b[0m \u001b[1;32mis\u001b[0m \u001b[1;32mnot\u001b[0m \u001b[1;32mNone\u001b[0m\u001b[1;33m:\u001b[0m\u001b[1;33m\u001b[0m\u001b[1;33m\u001b[0m\u001b[0m\n\u001b[1;32m-> 3887\u001b[1;33m                 \u001b[0mobj\u001b[0m \u001b[1;33m=\u001b[0m \u001b[0mobj\u001b[0m\u001b[1;33m.\u001b[0m\u001b[0m_drop_axis\u001b[0m\u001b[1;33m(\u001b[0m\u001b[0mlabels\u001b[0m\u001b[1;33m,\u001b[0m \u001b[0maxis\u001b[0m\u001b[1;33m,\u001b[0m \u001b[0mlevel\u001b[0m\u001b[1;33m=\u001b[0m\u001b[0mlevel\u001b[0m\u001b[1;33m,\u001b[0m \u001b[0merrors\u001b[0m\u001b[1;33m=\u001b[0m\u001b[0merrors\u001b[0m\u001b[1;33m)\u001b[0m\u001b[1;33m\u001b[0m\u001b[1;33m\u001b[0m\u001b[0m\n\u001b[0m\u001b[0;32m   3888\u001b[0m \u001b[1;33m\u001b[0m\u001b[0m\n\u001b[0;32m   3889\u001b[0m         \u001b[1;32mif\u001b[0m \u001b[0minplace\u001b[0m\u001b[1;33m:\u001b[0m\u001b[1;33m\u001b[0m\u001b[1;33m\u001b[0m\u001b[0m\n",
      "\u001b[1;32mc:\\users\\amand\\.venvs\\lewagon\\lib\\site-packages\\pandas\\core\\generic.py\u001b[0m in \u001b[0;36m_drop_axis\u001b[1;34m(self, labels, axis, level, errors)\u001b[0m\n\u001b[0;32m   3919\u001b[0m                 \u001b[0mnew_axis\u001b[0m \u001b[1;33m=\u001b[0m \u001b[0maxis\u001b[0m\u001b[1;33m.\u001b[0m\u001b[0mdrop\u001b[0m\u001b[1;33m(\u001b[0m\u001b[0mlabels\u001b[0m\u001b[1;33m,\u001b[0m \u001b[0mlevel\u001b[0m\u001b[1;33m=\u001b[0m\u001b[0mlevel\u001b[0m\u001b[1;33m,\u001b[0m \u001b[0merrors\u001b[0m\u001b[1;33m=\u001b[0m\u001b[0merrors\u001b[0m\u001b[1;33m)\u001b[0m\u001b[1;33m\u001b[0m\u001b[1;33m\u001b[0m\u001b[0m\n\u001b[0;32m   3920\u001b[0m             \u001b[1;32melse\u001b[0m\u001b[1;33m:\u001b[0m\u001b[1;33m\u001b[0m\u001b[1;33m\u001b[0m\u001b[0m\n\u001b[1;32m-> 3921\u001b[1;33m                 \u001b[0mnew_axis\u001b[0m \u001b[1;33m=\u001b[0m \u001b[0maxis\u001b[0m\u001b[1;33m.\u001b[0m\u001b[0mdrop\u001b[0m\u001b[1;33m(\u001b[0m\u001b[0mlabels\u001b[0m\u001b[1;33m,\u001b[0m \u001b[0merrors\u001b[0m\u001b[1;33m=\u001b[0m\u001b[0merrors\u001b[0m\u001b[1;33m)\u001b[0m\u001b[1;33m\u001b[0m\u001b[1;33m\u001b[0m\u001b[0m\n\u001b[0m\u001b[0;32m   3922\u001b[0m             \u001b[0mresult\u001b[0m \u001b[1;33m=\u001b[0m \u001b[0mself\u001b[0m\u001b[1;33m.\u001b[0m\u001b[0mreindex\u001b[0m\u001b[1;33m(\u001b[0m\u001b[1;33m**\u001b[0m\u001b[1;33m{\u001b[0m\u001b[0maxis_name\u001b[0m\u001b[1;33m:\u001b[0m \u001b[0mnew_axis\u001b[0m\u001b[1;33m}\u001b[0m\u001b[1;33m)\u001b[0m\u001b[1;33m\u001b[0m\u001b[1;33m\u001b[0m\u001b[0m\n\u001b[0;32m   3923\u001b[0m \u001b[1;33m\u001b[0m\u001b[0m\n",
      "\u001b[1;32mc:\\users\\amand\\.venvs\\lewagon\\lib\\site-packages\\pandas\\core\\indexes\\base.py\u001b[0m in \u001b[0;36mdrop\u001b[1;34m(self, labels, errors)\u001b[0m\n\u001b[0;32m   5282\u001b[0m         \u001b[1;32mif\u001b[0m \u001b[0mmask\u001b[0m\u001b[1;33m.\u001b[0m\u001b[0many\u001b[0m\u001b[1;33m(\u001b[0m\u001b[1;33m)\u001b[0m\u001b[1;33m:\u001b[0m\u001b[1;33m\u001b[0m\u001b[1;33m\u001b[0m\u001b[0m\n\u001b[0;32m   5283\u001b[0m             \u001b[1;32mif\u001b[0m \u001b[0merrors\u001b[0m \u001b[1;33m!=\u001b[0m \u001b[1;34m\"ignore\"\u001b[0m\u001b[1;33m:\u001b[0m\u001b[1;33m\u001b[0m\u001b[1;33m\u001b[0m\u001b[0m\n\u001b[1;32m-> 5284\u001b[1;33m                 \u001b[1;32mraise\u001b[0m \u001b[0mKeyError\u001b[0m\u001b[1;33m(\u001b[0m\u001b[1;34mf\"{labels[mask]} not found in axis\"\u001b[0m\u001b[1;33m)\u001b[0m\u001b[1;33m\u001b[0m\u001b[1;33m\u001b[0m\u001b[0m\n\u001b[0m\u001b[0;32m   5285\u001b[0m             \u001b[0mindexer\u001b[0m \u001b[1;33m=\u001b[0m \u001b[0mindexer\u001b[0m\u001b[1;33m[\u001b[0m\u001b[1;33m~\u001b[0m\u001b[0mmask\u001b[0m\u001b[1;33m]\u001b[0m\u001b[1;33m\u001b[0m\u001b[1;33m\u001b[0m\u001b[0m\n\u001b[0;32m   5286\u001b[0m         \u001b[1;32mreturn\u001b[0m \u001b[0mself\u001b[0m\u001b[1;33m.\u001b[0m\u001b[0mdelete\u001b[0m\u001b[1;33m(\u001b[0m\u001b[0mindexer\u001b[0m\u001b[1;33m)\u001b[0m\u001b[1;33m\u001b[0m\u001b[1;33m\u001b[0m\u001b[0m\n",
      "\u001b[1;31mKeyError\u001b[0m: \"['16'] not found in axis\""
     ]
    }
   ],
   "source": [
    "df.drop(columns='16', inplace=True)"
   ]
  },
  {
   "cell_type": "code",
   "execution_count": 61,
   "metadata": {},
   "outputs": [],
   "source": [
    "url = df['0']['524 PARTICIPACOES S.A.']"
   ]
  },
  {
   "cell_type": "code",
   "execution_count": 64,
   "metadata": {},
   "outputs": [
    {
     "name": "stdout",
     "output_type": "stream",
     "text": [
      "<html><head></head><body></body></html>\n"
     ]
    },
    {
     "ename": "NoSuchElementException",
     "evalue": "Message: no such element: Unable to locate element: {\"method\":\"css selector\",\"selector\":\"[id=\"ctl00_cphPopUp_tbDados\"]\"}\n  (Session info: headless chrome=88.0.4324.190)\n",
     "output_type": "error",
     "traceback": [
      "\u001b[1;31m---------------------------------------------------------------------------\u001b[0m",
      "\u001b[1;31mNoSuchElementException\u001b[0m                    Traceback (most recent call last)",
      "\u001b[1;32m<ipython-input-64-faa3fc43d3b3>\u001b[0m in \u001b[0;36m<module>\u001b[1;34m\u001b[0m\n\u001b[0;32m     16\u001b[0m \u001b[1;33m\u001b[0m\u001b[0m\n\u001b[0;32m     17\u001b[0m \u001b[1;31m# Extracting the table\u001b[0m\u001b[1;33m\u001b[0m\u001b[1;33m\u001b[0m\u001b[1;33m\u001b[0m\u001b[0m\n\u001b[1;32m---> 18\u001b[1;33m \u001b[0mtable_html\u001b[0m \u001b[1;33m=\u001b[0m \u001b[0mdriver\u001b[0m\u001b[1;33m.\u001b[0m\u001b[0mfind_element_by_id\u001b[0m\u001b[1;33m(\u001b[0m\u001b[1;34m'ctl00_cphPopUp_tbDados'\u001b[0m\u001b[1;33m)\u001b[0m\u001b[1;33m\u001b[0m\u001b[1;33m\u001b[0m\u001b[0m\n\u001b[0m\u001b[0;32m     19\u001b[0m \u001b[1;33m\u001b[0m\u001b[0m\n\u001b[0;32m     20\u001b[0m \u001b[0mtable_html\u001b[0m\u001b[1;33m.\u001b[0m\u001b[0mget_attribute\u001b[0m\u001b[1;33m(\u001b[0m\u001b[1;34m\"outerHTML\"\u001b[0m\u001b[1;33m)\u001b[0m\u001b[1;33m\u001b[0m\u001b[1;33m\u001b[0m\u001b[0m\n",
      "\u001b[1;32mc:\\users\\amand\\.venvs\\lewagon\\lib\\site-packages\\selenium\\webdriver\\remote\\webdriver.py\u001b[0m in \u001b[0;36mfind_element_by_id\u001b[1;34m(self, id_)\u001b[0m\n\u001b[0;32m    358\u001b[0m             \u001b[0melement\u001b[0m \u001b[1;33m=\u001b[0m \u001b[0mdriver\u001b[0m\u001b[1;33m.\u001b[0m\u001b[0mfind_element_by_id\u001b[0m\u001b[1;33m(\u001b[0m\u001b[1;34m'foo'\u001b[0m\u001b[1;33m)\u001b[0m\u001b[1;33m\u001b[0m\u001b[1;33m\u001b[0m\u001b[0m\n\u001b[0;32m    359\u001b[0m         \"\"\"\n\u001b[1;32m--> 360\u001b[1;33m         \u001b[1;32mreturn\u001b[0m \u001b[0mself\u001b[0m\u001b[1;33m.\u001b[0m\u001b[0mfind_element\u001b[0m\u001b[1;33m(\u001b[0m\u001b[0mby\u001b[0m\u001b[1;33m=\u001b[0m\u001b[0mBy\u001b[0m\u001b[1;33m.\u001b[0m\u001b[0mID\u001b[0m\u001b[1;33m,\u001b[0m \u001b[0mvalue\u001b[0m\u001b[1;33m=\u001b[0m\u001b[0mid_\u001b[0m\u001b[1;33m)\u001b[0m\u001b[1;33m\u001b[0m\u001b[1;33m\u001b[0m\u001b[0m\n\u001b[0m\u001b[0;32m    361\u001b[0m \u001b[1;33m\u001b[0m\u001b[0m\n\u001b[0;32m    362\u001b[0m     \u001b[1;32mdef\u001b[0m \u001b[0mfind_elements_by_id\u001b[0m\u001b[1;33m(\u001b[0m\u001b[0mself\u001b[0m\u001b[1;33m,\u001b[0m \u001b[0mid_\u001b[0m\u001b[1;33m)\u001b[0m\u001b[1;33m:\u001b[0m\u001b[1;33m\u001b[0m\u001b[1;33m\u001b[0m\u001b[0m\n",
      "\u001b[1;32mc:\\users\\amand\\.venvs\\lewagon\\lib\\site-packages\\selenium\\webdriver\\remote\\webdriver.py\u001b[0m in \u001b[0;36mfind_element\u001b[1;34m(self, by, value)\u001b[0m\n\u001b[0;32m    976\u001b[0m         return self.execute(Command.FIND_ELEMENT, {\n\u001b[0;32m    977\u001b[0m             \u001b[1;34m'using'\u001b[0m\u001b[1;33m:\u001b[0m \u001b[0mby\u001b[0m\u001b[1;33m,\u001b[0m\u001b[1;33m\u001b[0m\u001b[1;33m\u001b[0m\u001b[0m\n\u001b[1;32m--> 978\u001b[1;33m             'value': value})['value']\n\u001b[0m\u001b[0;32m    979\u001b[0m \u001b[1;33m\u001b[0m\u001b[0m\n\u001b[0;32m    980\u001b[0m     \u001b[1;32mdef\u001b[0m \u001b[0mfind_elements\u001b[0m\u001b[1;33m(\u001b[0m\u001b[0mself\u001b[0m\u001b[1;33m,\u001b[0m \u001b[0mby\u001b[0m\u001b[1;33m=\u001b[0m\u001b[0mBy\u001b[0m\u001b[1;33m.\u001b[0m\u001b[0mID\u001b[0m\u001b[1;33m,\u001b[0m \u001b[0mvalue\u001b[0m\u001b[1;33m=\u001b[0m\u001b[1;32mNone\u001b[0m\u001b[1;33m)\u001b[0m\u001b[1;33m:\u001b[0m\u001b[1;33m\u001b[0m\u001b[1;33m\u001b[0m\u001b[0m\n",
      "\u001b[1;32mc:\\users\\amand\\.venvs\\lewagon\\lib\\site-packages\\selenium\\webdriver\\remote\\webdriver.py\u001b[0m in \u001b[0;36mexecute\u001b[1;34m(self, driver_command, params)\u001b[0m\n\u001b[0;32m    319\u001b[0m         \u001b[0mresponse\u001b[0m \u001b[1;33m=\u001b[0m \u001b[0mself\u001b[0m\u001b[1;33m.\u001b[0m\u001b[0mcommand_executor\u001b[0m\u001b[1;33m.\u001b[0m\u001b[0mexecute\u001b[0m\u001b[1;33m(\u001b[0m\u001b[0mdriver_command\u001b[0m\u001b[1;33m,\u001b[0m \u001b[0mparams\u001b[0m\u001b[1;33m)\u001b[0m\u001b[1;33m\u001b[0m\u001b[1;33m\u001b[0m\u001b[0m\n\u001b[0;32m    320\u001b[0m         \u001b[1;32mif\u001b[0m \u001b[0mresponse\u001b[0m\u001b[1;33m:\u001b[0m\u001b[1;33m\u001b[0m\u001b[1;33m\u001b[0m\u001b[0m\n\u001b[1;32m--> 321\u001b[1;33m             \u001b[0mself\u001b[0m\u001b[1;33m.\u001b[0m\u001b[0merror_handler\u001b[0m\u001b[1;33m.\u001b[0m\u001b[0mcheck_response\u001b[0m\u001b[1;33m(\u001b[0m\u001b[0mresponse\u001b[0m\u001b[1;33m)\u001b[0m\u001b[1;33m\u001b[0m\u001b[1;33m\u001b[0m\u001b[0m\n\u001b[0m\u001b[0;32m    322\u001b[0m             response['value'] = self._unwrap_value(\n\u001b[0;32m    323\u001b[0m                 response.get('value', None))\n",
      "\u001b[1;32mc:\\users\\amand\\.venvs\\lewagon\\lib\\site-packages\\selenium\\webdriver\\remote\\errorhandler.py\u001b[0m in \u001b[0;36mcheck_response\u001b[1;34m(self, response)\u001b[0m\n\u001b[0;32m    240\u001b[0m                 \u001b[0malert_text\u001b[0m \u001b[1;33m=\u001b[0m \u001b[0mvalue\u001b[0m\u001b[1;33m[\u001b[0m\u001b[1;34m'alert'\u001b[0m\u001b[1;33m]\u001b[0m\u001b[1;33m.\u001b[0m\u001b[0mget\u001b[0m\u001b[1;33m(\u001b[0m\u001b[1;34m'text'\u001b[0m\u001b[1;33m)\u001b[0m\u001b[1;33m\u001b[0m\u001b[1;33m\u001b[0m\u001b[0m\n\u001b[0;32m    241\u001b[0m             \u001b[1;32mraise\u001b[0m \u001b[0mexception_class\u001b[0m\u001b[1;33m(\u001b[0m\u001b[0mmessage\u001b[0m\u001b[1;33m,\u001b[0m \u001b[0mscreen\u001b[0m\u001b[1;33m,\u001b[0m \u001b[0mstacktrace\u001b[0m\u001b[1;33m,\u001b[0m \u001b[0malert_text\u001b[0m\u001b[1;33m)\u001b[0m\u001b[1;33m\u001b[0m\u001b[1;33m\u001b[0m\u001b[0m\n\u001b[1;32m--> 242\u001b[1;33m         \u001b[1;32mraise\u001b[0m \u001b[0mexception_class\u001b[0m\u001b[1;33m(\u001b[0m\u001b[0mmessage\u001b[0m\u001b[1;33m,\u001b[0m \u001b[0mscreen\u001b[0m\u001b[1;33m,\u001b[0m \u001b[0mstacktrace\u001b[0m\u001b[1;33m)\u001b[0m\u001b[1;33m\u001b[0m\u001b[1;33m\u001b[0m\u001b[0m\n\u001b[0m\u001b[0;32m    243\u001b[0m \u001b[1;33m\u001b[0m\u001b[0m\n\u001b[0;32m    244\u001b[0m     \u001b[1;32mdef\u001b[0m \u001b[0m_value_or_default\u001b[0m\u001b[1;33m(\u001b[0m\u001b[0mself\u001b[0m\u001b[1;33m,\u001b[0m \u001b[0mobj\u001b[0m\u001b[1;33m,\u001b[0m \u001b[0mkey\u001b[0m\u001b[1;33m,\u001b[0m \u001b[0mdefault\u001b[0m\u001b[1;33m)\u001b[0m\u001b[1;33m:\u001b[0m\u001b[1;33m\u001b[0m\u001b[1;33m\u001b[0m\u001b[0m\n",
      "\u001b[1;31mNoSuchElementException\u001b[0m: Message: no such element: Unable to locate element: {\"method\":\"css selector\",\"selector\":\"[id=\"ctl00_cphPopUp_tbDados\"]\"}\n  (Session info: headless chrome=88.0.4324.190)\n"
     ]
    }
   ],
   "source": [
    "#Going headless\n",
    "options = Options()\n",
    "options.add_argument(\"--headless\")\n",
    "\n",
    "# Getting the page\n",
    "driver = webdriver.Chrome(options=options)\n",
    "driver.get(url)\n",
    "wait = WebDriverWait(driver, 15)\n",
    "\n",
    "# Searching the iframe\n",
    "iframe = driver.find_element_by_xpath(\"//iframe[@id='iFrameFormulariosFilho']\")\n",
    "\n",
    "# Moving to iframe\n",
    "driver.switch_to.frame(iframe)\n",
    "print(driver.page_source)\n",
    "\n",
    "# Extracting the table\n",
    "table_html = driver.find_element_by_id('ctl00_cphPopUp_tbDados')\n",
    "\n",
    "table_html.get_attribute(\"outerHTML\")\n"
   ]
  },
  {
   "cell_type": "code",
   "execution_count": 65,
   "metadata": {},
   "outputs": [
    {
     "data": {
      "text/plain": [
       "'<html xmlns=\"http://www.w3.org/1999/xhtml\"><head id=\"Head1\"><link href=\"App_Themes/CVM/Calendar/Skins/CVM/Calendar.css\" type=\"text/css\" rel=\"stylesheet\"><link href=\"App_Themes/CVM/Calendar/Skins/CVM/RadTimePicker.css\" type=\"text/css\" rel=\"stylesheet\"><link href=\"App_Themes/CVM/Calendario.css\" type=\"text/css\" rel=\"stylesheet\"><link href=\"App_Themes/CVM/ComboBox/CVM/Styles.css\" type=\"text/css\" rel=\"stylesheet\"><link href=\"App_Themes/CVM/ComboBox/Skins/CVM/Styles.css\" type=\"text/css\" rel=\"stylesheet\"><link href=\"App_Themes/CVM/EditarConteudo.css\" type=\"text/css\" rel=\"stylesheet\"><link href=\"App_Themes/CVM/Entrada.css\" type=\"text/css\" rel=\"stylesheet\"><link href=\"App_Themes/CVM/Erro.css\" type=\"text/css\" rel=\"stylesheet\"><link href=\"App_Themes/CVM/Estrutura.css\" type=\"text/css\" rel=\"stylesheet\"><link href=\"App_Themes/CVM/Ferramentas.css\" type=\"text/css\" rel=\"stylesheet\"><link href=\"App_Themes/CVM/Formulario.css\" type=\"text/css\" rel=\"stylesheet\"><link href=\"App_Themes/CVM/FormularioReferencia.css\" type=\"text/css\" rel=\"stylesheet\"><link href=\"App_Themes/CVM/Grid.css\" type=\"text/css\" rel=\"stylesheet\"><link href=\"App_Themes/CVM/Input/Skins/CVM/styles.css\" type=\"text/css\" rel=\"stylesheet\"><link href=\"App_Themes/CVM/Login.css\" type=\"text/css\" rel=\"stylesheet\"><link href=\"App_Themes/CVM/Logout.css\" type=\"text/css\" rel=\"stylesheet\"><link href=\"App_Themes/CVM/Menu.css\" type=\"text/css\" rel=\"stylesheet\"><link href=\"App_Themes/CVM/Pesquisa.css\" type=\"text/css\" rel=\"stylesheet\"><link href=\"App_Themes/CVM/PopUp.css\" type=\"text/css\" rel=\"stylesheet\"><link href=\"App_Themes/CVM/TabStrip.css\" type=\"text/css\" rel=\"stylesheet\"><link href=\"App_Themes/CVM/Tabstrip/Scripts/3_6_2/tabstrip.css\" type=\"text/css\" rel=\"stylesheet\"><link href=\"App_Themes/CVM/Tabstrip/Scripts/3_6_2/vtabstrip.css\" type=\"text/css\" rel=\"stylesheet\"><link href=\"App_Themes/CVM/Tabstrip/Skins/CBLC/styles.css\" type=\"text/css\" rel=\"stylesheet\"><link href=\"App_Themes/CVM/Tabstrip/Skins/CVM/styles.css\" type=\"text/css\" rel=\"stylesheet\"><link href=\"App_Themes/CVM/Topo.css\" type=\"text/css\" rel=\"stylesheet\"><link href=\"App_Themes/CVM/TrocaSenha.css\" type=\"text/css\" rel=\"stylesheet\"><link href=\"App_Themes/CVM/Upload/Skins/CVM/RadUpload.css\" type=\"text/css\" rel=\"stylesheet\"><link href=\"App_Themes/CVM/Upload/Skins/CVM/RadUploadProgressArea.css\" type=\"text/css\" rel=\"stylesheet\"><link href=\"App_Themes/CVM/Window/Skins/CVM/Window.css\" type=\"text/css\" rel=\"stylesheet\"><title>\\n\\tConsulta de documentos\\n</title><meta http-equiv=\"X-UA-Compatible\" content=\"IE=EmulateIE11\">\\n    <!--Jquery-->\\n    <script type=\"text/javascript\" async=\"\" src=\"https://www.gstatic.com/recaptcha/releases/jxFQ7RQ9s9HTGKeWcoa6UQdD/recaptcha__en.js\" crossorigin=\"anonymous\" integrity=\"sha384-M9863pj8VTkCmdbfuuaGvQUaNXo72mc4KbfOtDfVBjv+zjrQy0vx5uzX9BsGSepE\"></script><script type=\"text/javascript\" src=\"/ENETCONSULTA/ruxitagentjs_ICA27SVfhjqrux_10207210127152629.js\" data-dtconfig=\"rid=RID_1061334548|rpid=-932984748|domain=cvm.gov.br|reportUrl=/ENETCONSULTA/rb_8370fec7-c82e-413f-a2c6-777046ed9811|app=d94293f33bf4a8d1|featureHash=ICA27SVfhjqrux|srsr=10000|vcv=2|rdnt=1|uxrgce=1|bp=3|cuc=qf4s7dpn|mel=100000|dpvc=1|md=mdcc1=a#ctl00_lblLogin,mdcc2=a#ctl00_DefaultContent__login_ctl00_UserName|lastModification=1613794947829|dtVersion=10207210127152629|tp=500,50,0,1|uxdcw=1500|vs=2|agentUri=/ENETCONSULTA/ruxitagentjs_ICA27SVfhjqrux_10207210127152629.js\"></script><script src=\"jquery/jquery-1.12.4.js\" type=\"text/javascript\"></script>\\n    <script src=\"jquery/ui/jquery-ui.js\" type=\"text/javascript\"></script>\\n\\n    <link rel=\"Stylesheet\" href=\"jquery/ui/jquery-ui.css\"><link rel=\"Stylesheet\" href=\"css/slidemenu.css\">\\n\\n    <!--Foundation-->\\n    <link rel=\"Stylesheet\" href=\"css/foundation.css\"><link rel=\"Stylesheet\" href=\"css/foundation-icons/foundation-icons.css\">\\n\\n    <script src=\"jquery/jquery.slidemenu.js\" type=\"text/javascript\"></script>\\n    <script src=\"js/mensagemModal.js\" type=\"text/javascript\"></script>\\n\\n    <script type=\"text/javascript\">\\n        window.onload = CarregarDadosArquivoFRE;\\n\\n        \\n\\n        $(document).ready(function () {\\n\\n            if (document.getElementById(\\'hdnHabilitaCaptcha\\').value == \\'S\\') {\\n\\n                var htmlCaptchaV2 = \\'<div class=\"g-recaptcha\" id=\"ConsExternaV2\" data-sitekey=\"\\' + document.getElementById(\\'hdnChaveSiteV2\\').value + \\'\"></div>\\';\\n\\n                $(\\'#divCaptchaV2\\').html(htmlCaptchaV2);\\n\\n                if (document.getElementById(\\'hdnAcaoToken\\').value == \\'V3\\') {\\n                    $(\\'#divCaptchaV2\\').css(\\'display\\', \\'none\\');\\n\\n                    try {\\n\\n                        grecaptcha.ready(function () {\\n\\n                            try {\\n\\n                                grecaptcha.execute(document.getElementById(\\'hdnChaveSiteV3\\').value, { action: \\'submit\\' }).then(function (token) {\\n                                    document.getElementById(\\'hdnToken\\').value = token;\\n                                    $(\\'#Form1\\').submit();\\n                                });\\n\\n                            }\\n                            catch (ex) {\\n                                MensagemModal(\\'Exibição de Documentos\\', ex.message, \\'E\\');\\n                            }\\n                        });\\n\\n                    }\\n                    catch (ab1) {\\n                        MensagemModal(\\'Exibição de Documentos\\', ab1.message, \\'E\\');\\n                    }\\n                }\\n                else if (document.getElementById(\\'hdnAcaoToken\\').value == \\'V2\\') {\\n\\n                    $(\\'#btnGeraRelatorioPDF\\').addClass(\\'disabled\\');\\n                    $(\\'#btnGeraRelatorioPDF\\').attr(\\'title\\', \\'Resolva o captcha para ter acesso a esta funcionalide\\');\\n\\n                    $(\\'#divCaptchaV2\\').css(\\'display\\', \\'block\\');\\n                    var validaCaptchaV2 = function (response) {\\n                        $(\\'#divCaptchaV2\\').css(\\'display\\', \\'none\\');\\n                        grecaptcha.reset();\\n                        document.getElementById(\\'hdnToken\\').value = response;\\n                        $(\\'#Form1\\').submit();\\n                    };\\n\\n                    try {\\n\\n                        grecaptcha.render(\\'ConsExternaV2\\', {\\n                            \\'sitekey\\': document.getElementById(\\'hdnChaveSiteV2\\').value,\\n                            \\'callback\\': validaCaptchaV2,\\n                            \\'theme\\': \\'dark\\'\\n                        });\\n                    } catch (ex) { alert(ex.message); }\\n                    \\n                }\\n                else if (document.getElementById(\\'hdnAcaoToken\\').value == \\'OK\\') {\\n                    $(\\'#btnGeraRelatorioPDF\\').removeClass(\\'disabled\\');\\n                    $(\\'#btnGeraRelatorioPDF\\').attr(\\'title\\', \\'\\');\\n                    $(\\'#divCaptchaV2\\').css(\\'display\\', \\'none\\');\\n                }\\n            }\\n            else {\\n                $(\\'#btnGeraRelatorioPDF\\').removeClass(\\'disabled\\');\\n                $(\\'#btnGeraRelatorioPDF\\').attr(\\'title\\', \\'\\');\\n            }\\n\\n\\n\\n        });\\n\\n        function CarregarDadosArquivoFRE() {\\n\\n            var mensagem = $(\\'#hdnMensagem\\').val();\\n\\n            if (mensagem != \\'\\') {\\n                MensagemModal(\\'Exibição de Documentos\\',mensagem, \\'E\\');\\n                return;\\n            }\\n\\n            MontarDadosCabecalhoTela();\\n\\n            $(\"#btnGeraRelatorioPDF\").click(function (event) {\\n\\n                event.preventDefault();\\n                event.stopPropagation();\\n\\n                $(\"#dialog\").dialog({\\n                    autoOpen: false,\\n                    modal: true,\\n                    height: 630,\\n                    width: 650,\\n                    title: \"Documento em PDF\",\\n                    show: {\\n                        effect: \"blind\"\\n                    },\\n                    hide: {\\n                        effect: \"explode\"\\n                    }\\n                });\\n\\n                var dlg = document.getElementById(\"dialog\");\\n                dlg.title = \"Documento em PDF\";\\n                $(\"#dialog\").dialog(\"open\");\\n                var modal = document.getElementById(\"iFrameModal\");\\n                modal.height = \"100%\";\\n                modal.width = \"100%\";\\n                modal.src = \"frmRelatorioPDF.aspx?CodigoTipoInstituicao=1&NumeroSequencialDocumento=\" + $(\\'#hdnNumeroSequencialDocumento\\').val() +\\n                    \"&CodigoCVM=\" + $(\\'#hdnCodigoCvm\\').val() +\\n                    \"&CodigoTipoDocumento=\" + $(\\'#hdnCodigoTipoDocumento\\').val() +\\n                    \"&DescricaoTipoDocumento=\" + $(\\'#hdnDescricaoDocumento\\').val() + \"&PadraoCor=A&Hash=\" + $(\\'#hdnHash\\').val();\\n\\n                \\n            });\\n        }\\n\\n        function MostraAjax() {\\n            $(\"#divSplash\").show();\\n            $(\"#divSplash\").css({\\n                position: \"absolute\",\\n                width: \"100%\",\\n                height: \"100%\",\\n                left: 0,\\n                top: 0,\\n                zIndex: 1000000,\\n                background: \"#666666 url(jquery/ui/images/ui-bg_diagonals-thick_20_666666_40x40.png) repeat \",\\n                opacity: .5\\n            }).appendTo($(\".container\").css(\"position\", \"relative\"));\\n        }\\n\\n        function getParameterByName(name, url) {\\n            if (!url) url = window.location.href;\\n            name = name.replace(/[\\\\[\\\\]]/g, \"\\\\\\\\$&\");\\n            var regex = new RegExp(\"[?&]\" + name + \"(=([^&#]*)|&|#|$)\"),\\n            results = regex.exec(url);\\n            if (!results) return null;\\n            if (!results[2]) return \\'\\';\\n            return decodeURIComponent(results[2].replace(/\\\\+/g, \" \"));\\n        }\\n\\n        function MontarDadosCabecalhoTela() {\\n\\n           \\n\\n            var motivos = $(\\'#hdnReapresentacaoCancelamento\\').val();\\n\\n\\n            \\n            if (motivos == \"R\") {\\n                document.getElementById(\"lblMotivo\").innerText = \"Motivo de Reapresentação: \";\\n                document.getElementById(\"divMotivoCancelamento\").style.display = \"block\";\\n            }\\n            else if (motivos == \"C\") {\\n                document.getElementById(\"lblMotivo\").innerText = \"Motivo de Cancelamento: \";\\n                document.getElementById(\"divMotivoCancelamento\").style.display = \"block\";\\n            }\\n            else {\\n                document.getElementById(\"divMotivoCancelamento\").style.display = \"none\";            \\n            }\\n        }\\n    </script>\\n\\n    <style>\\n\\n        #btnGeraRelatorioPDF.ocultaBotao {\\n            display: none;\\n        }\\n\\n        .ui-widget-header {\\n            background: #0F2D5C !important;\\n        }\\n\\n        .ui-state-default {\\n            border: 0px !important;\\n             background: #0F2D5C !important;\\n            background-color: #0F2D5C !important;\\n        }\\n            .ui-state-default .ui-icon {\\n            background-color: #0F2D5C !important;\\n            }\\n        .ui-button .ui-button-text {\\n        background-color: #0F2D5C !important;\\n        }\\n\\n\\n        /*.ui-button {\\n            background: #0F2D5C !important;\\n            background-color: #0F2D5C !important;\\n        }*/\\n        .ui-state-active {\\n            background-image:unset !important;\\n        }\\n        .ui-state-hover {\\n            background-image:unset !important;\\n        }\\n\\n        a.botaoSalvarPDF{\\n            background-color: #0F2D5C;\\n            padding: 7px;\\n            color: #fff;\\n            border-radius: 5px;\\n        }\\n\\n        .header-content-protocolo {\\n            background-color: #FFF;\\n            border-radius: 5px;\\n            line-height: 22px;\\n            padding: 10px 15px;\\n            width: 60%;\\n\\n            \\n\\n            display: -ms-flexbox;\\n            display: -webkit-flex;\\n            display: flex;\\n            -webkit-flex-direction: row;\\n            -ms-flex-direction: row;\\n            flex-direction: row;\\n            -webkit-flex-wrap: nowrap;\\n            -ms-flex-wrap: nowrap;\\n            flex-wrap: nowrap;\\n            -webkit-justify-content: space-between;\\n            -ms-flex-pack: justify;\\n            justify-content: space-between;\\n            -webkit-align-content: center;\\n            -ms-flex-line-pack: center;\\n            align-content: center;\\n            -webkit-align-items: center;\\n            -ms-flex-align: center;\\n            align-items: center;\\n        }\\n\\n        @media screen and (max-width: 1160px) {\\n            .header-content-protocolo {\\n                width: 53%;\\n            }\\n         }\\n            \\n\\n        .header-content {\\n            width: 80%;\\n            margin:0 auto;\\n\\n            display: -ms-flexbox;\\n            display: -webkit-flex;\\n            display: flex;\\n            -webkit-flex-direction: row;\\n            -ms-flex-direction: row;\\n            flex-direction: row;\\n            -webkit-flex-wrap: nowrap;\\n            -ms-flex-wrap: nowrap;\\n            flex-wrap: nowrap;\\n            -webkit-justify-content: space-between;\\n            -ms-flex-pack: justify;\\n            justify-content: space-between;\\n            -webkit-align-content: center;\\n            -ms-flex-line-pack: center;\\n            align-content: center;\\n            -webkit-align-items: center;\\n            -ms-flex-align: center;\\n            align-items: center;\\n        }\\n        .labelNomeCompanhia {\\n            font-size: 14px !important;\\n            color: #00b0eb !important;\\n        }\\n\\n        @media screen and (max-width: 979px) {\\n            .header-content {\\n                width: 90%;\\n                -webkit-flex-wrap: wrap;\\n                -ms-flex-wrap: wrap;\\n                flex-wrap: wrap;\\n            }\\n\\n            .header-content-protocolo {\\n                -webkit-flex-wrap: wrap;\\n                -ms-flex-wrap: wrap;\\n                flex-wrap: wrap;\\n            }\\n        }\\n\\n        .dri{\\n            color: #FFF; \\n            padding-left: 2px;\\n        }\\n\\n        .descricaoCategoria {\\n            color: #FFF;\\n            padding-left: 2px;\\n            text-align: left;\\n        }\\n\\n        .protocolo {\\n            padding-left: 2px;\\n            color: #004685;\\n            font-size: 12px;\\n            font-weight: bold;\\n        }\\n\\n        .dataDocumento {\\n            color: #004685;\\n            font-size: 13px;\\n            font-weight: bold;\\n        }\\n\\n        a.disabled {\\n            pointer-events: none;\\n            cursor: default;\\n            background-color: #dcdcdc;\\n        }\\n\\n        .dataEnvio{\\n            color: #004685; \\n            font-size: 13px; \\n            font-weight: bold;\\n        }\\n\\n        .motivoCancelamento {\\n            color: #FFF;\\n        }\\n\\n\\n         \\n    </style>\\n</head>\\n\\n<body>\\n    \\n    <form method=\"post\" action=\"frmGerenciaPaginaFRE.aspx?NumeroSequencialDocumento=98549&amp;CodigoTipoInstituicao=2\" id=\"Form1\">\\n<div>\\n<input type=\"hidden\" name=\"__EVENTTARGET\" id=\"__EVENTTARGET\" value=\"\">\\n<input type=\"hidden\" name=\"__EVENTARGUMENT\" id=\"__EVENTARGUMENT\" value=\"\">\\n<input type=\"hidden\" name=\"__LASTFOCUS\" id=\"__LASTFOCUS\" value=\"\">\\n<input type=\"hidden\" name=\"__VIEWSTATE\" id=\"__VIEWSTATE\" value=\"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\">\\n</div>\\n\\n<script type=\"text/javascript\">\\n//<![CDATA[\\nvar theForm = document.forms[\\'Form1\\'];\\nif (!theForm) {\\n    theForm = document.Form1;\\n}\\nfunction __doPostBack(eventTarget, eventArgument) {\\n    if (!theForm.onsubmit || (theForm.onsubmit() != false)) {\\n        theForm.__EVENTTARGET.value = eventTarget;\\n        theForm.__EVENTARGUMENT.value = eventArgument;\\n        theForm.submit();\\n    }\\n}\\n//]]>\\n</script>\\n\\n\\n<div>\\n\\n\\t<input type=\"hidden\" name=\"__VIEWSTATEGENERATOR\" id=\"__VIEWSTATEGENERATOR\" value=\"A69DFDAC\">\\n\\t<input type=\"hidden\" name=\"__EVENTVALIDATION\" id=\"__EVENTVALIDATION\" value=\"/wEWHgL6042+DgLEzMqwBQLT3YLOBALyz+HRAQLh6ZTgCgLh3bviCAKowrajBgL9ta6uBQL39eGBDQLV/J5cAtX8olwC6pnOrwMCrLqA8QMC4/iV4QgCv/zEkAgCsJPu/gQCtpPO/gQCiuHl0wEC7/r7yAsC1JOY/QUC/ZbQlAYC2vKa3goCrtjjggICx/fapAkCgYvM0QICqMHBrAwCtJzG0wIC1+Tc4gYC/aLPwg8Ci4Lsngi188Ywf2Kv9vhTAXWQwkEDQBXF1A==\">\\n</div>\\n        <input type=\"hidden\" name=\"hdnNumeroSequencialDocumento\" id=\"hdnNumeroSequencialDocumento\" value=\"98549\">\\n        <input type=\"hidden\" name=\"hdnCodigoTipoDocumento\" id=\"hdnCodigoTipoDocumento\" value=\"3\">\\n        <input type=\"hidden\" name=\"hdnCodigoCvm\" id=\"hdnCodigoCvm\" value=\"016284\">\\n        <input type=\"hidden\" name=\"hdnDescricaoDocumento\" id=\"hdnDescricaoDocumento\" value=\"ITR\">\\n        <input type=\"hidden\" name=\"hdnCodigoInstituicao\" id=\"hdnCodigoInstituicao\" value=\"2\">\\n        <input type=\"hidden\" name=\"hdnReapresentacaoCancelamento\" id=\"hdnReapresentacaoCancelamento\">\\n        <input type=\"hidden\" name=\"hdnMensagem\" id=\"hdnMensagem\">\\n        <input type=\"hidden\" name=\"hdnHash\" id=\"hdnHash\" value=\"fjaJtrf9V8ELfB04iDzFulunSERtYVqQzIzhsmfqlg\">\\n        <input name=\"hdnChaveSiteV3\" type=\"hidden\" id=\"hdnChaveSiteV3\" value=\"6LdVyiwaAAAAABobBnLknCD5VGGkmH9snlJBxCyr\">    \\n        <input name=\"hdnChaveSiteV2\" type=\"hidden\" id=\"hdnChaveSiteV2\" value=\"6LeSyywaAAAAAGzZjvIaDntL8_Ht6aO7Gqt317x8\">    \\n        <input name=\"hdnHabilitaCaptcha\" type=\"hidden\" id=\"hdnHabilitaCaptcha\" value=\"S\">    \\n        <input name=\"hdnToken\" type=\"hidden\" id=\"hdnToken\" value=\"03AGdBq24SRijqQ1MqXBAxYNrv-QVGYCNAmu9bzch8d562KuPe6eb-3uOQPQawgo0Uid3TmwVpJVcpOY1jtVYkAS53BcQcF44G83fSCFnP5A23wTrtAu3c6Nyu-5g0MoV9SzufNDQIWkst3Hu0y6vyFPS2LdeN6cywq9LKTcs8o_7ipeid2TvE1_ZskXSh9oLX4VJqVEyMNYGJLG_aZyd-BRQX2eMXzIsaXMsGmWKcVBfQeKxHwzp5624Iie1qfKe_cfHF9E4-xPR54t6H4Y1gU3Asp7tfk2OKg5fpAhhsroLFq0Oi8Xz5-bF-uMCaDG_nwms7IVWQWp2sojRJh0JxVtOiGNKiO49RQE_rtfntV5egrNzV0oaEZuPVGSZsunAIgbX5EZ3BmioAdZC7Cw4NPorTZkTGn1cY69xMk0IXMkiYqZCln-dQLMKuTPExmN5P3hRDM9Tpb1kY8ygdNeo7q4Pb9stdyrEd328FArC23p5l5irCoSc1tWc\">    \\n        <input name=\"hdnAcaoToken\" type=\"hidden\" id=\"hdnAcaoToken\" value=\"OK\">    \\n        \\n\\n\\n        <div style=\"width:100%; background-color: #004685; float: left; padding: 10px 0;\">            \\n            <div class=\"header-content\">\\n                 <div class=\"large-4 columns\" style=\"line-height: 28px; width: 42%;\">\\n                <span id=\"lblNomeCompanhia\" class=\"labelNomeCompanhia\">524 PARTICIPACOES S.A.</span>\\n                <br>\\n                <i class=\"fi-play\" id=\"iconeDri\" style=\"font-size: 10px; cursor: pointer; color: #FFF; font-weight: bold;\"></i>\\n\\n                <span style=\"color: #FFF; padding-left: 2px;\">DRI:</span> <span id=\"lblNomeDRI\" class=\"dri\">Maria Amalia Delfim de Melo Coutrim - (FCA V2) </span>\\n                <br>\\n                <i class=\"fi-play\" id=\"iconeTipo\" style=\"font-size: 10px; cursor: pointer; color: #FFF;\"></i>\\n                     <span id=\"lblDescricaoCategoria\" class=\"descricaoCategoria\">Informações Trimestrais - 30/09/2020 - V1</span>\\n\\n                \\n            </div>\\n\\n           <div id=\"divCaptchaV2\" style=\"padding-right: 20px; display: none;\"><div class=\"g-recaptcha\" id=\"ConsExternaV2\" data-sitekey=\"6LeSyywaAAAAAGzZjvIaDntL8_Ht6aO7Gqt317x8\"></div></div>\\n\\n            <div class=\"header-content-protocolo\">\\n                <div style=\"width: 75%; float: left;\">\\n                    <div style=\"width: 100%; float: left;\">\\n                        <span style=\"color: #747474;\">Protocolo nº</span><span id=\"lblProtocolo\" class=\"protocolo\">016284ITR300920200100098549-76</span>\\n                    </div>\\n                    <div style=\"width: 50%; float: left;\">\\n                        <span style=\"color: #747474;\">Data do Documento</span>\\n                        <br>\\n                        <span id=\"lblDataDocumento\" class=\"dataDocumento\">30/09/2020</span>                        \\n                     <br>\\n                    </div>\\n                <div style=\"width: 40%; float: left;\">\\n                    <span style=\"color: #747474;\">Data do Envio</span>\\n                    <br>\\n                    <span id=\"lblDataEnvio\" class=\"dataEnvio\">13/11/2020 18:59:51</span>                                            \\n                </div>\\n\\n                </div>-\\n\\n                \\n                 <div>\\n                     <a id=\"btnGeraRelatorioPDF\" class=\"botaoSalvarPDF\" title=\"\"> Salvar em PDF</a>\\n                </div>\\n                \\n                \\n               \\n            </div>\\n\\n            </div>\\n\\n           \\n\\n            \\n            \\n        </div>\\n\\n        <div class=\"large-12 columns\" style=\"background-color: #0F2D5C; line-height: 20px; padding: 3px;\">\\n            <div class=\"large-2 columns\">\\n                &nbsp;\\n            </div>\\n            <div class=\"large-10 columns\" style=\"display: none; padding-top: 2px;\" id=\"divMotivoCancelamento\">\\n                <i class=\"fi-alert\" id=\"iconeMotivo\" style=\"font-size: 18px; cursor: pointer; color: #FFF;\"></i>\\n                <span style=\"color: #FFF;\" id=\"lblMotivo\"></span>&nbsp;<span id=\"lblMotivoCancelamentoReapresentacao\" class=\"motivoCancelamento\"></span>\\n            </div>\\n        </div>\\n        <br>\\n\\n        <div>\\n            <div>\\n                \\n                \\n                <br>\\n                <select name=\"cmbGrupo\" onchange=\"javascript:setTimeout(\\'__doPostBack(\\\\\\'cmbGrupo\\\\\\',\\\\\\'\\\\\\')\\', 0)\" id=\"cmbGrupo\" label=\"Você esta vendo:\" showlabel=\"true\" style=\"width:49%;\">\\n\\t<option value=\"1\">Dados da Empresa</option>\\n\\t<option selected=\"selected\" value=\"78\">DFs Individuais</option>\\n\\t<option value=\"PDF|192\">Relatório da Administração/Comentário do Desempenho</option>\\n\\t<option value=\"PDF|193\">Notas Explicativas</option>\\n\\t<option value=\"PDF|194\">Comentário Sobre o Comportamento das Projeções Empresariais</option>\\n\\t<option value=\"PDF|199\">Outras Informações que a Companhia Entenda Relevantes</option>\\n\\t<option value=\"207\">Pareceres e Declarações</option>\\n\\n</select>\\n                <select name=\"cmbQuadro\" onchange=\"javascript:setTimeout(\\'__doPostBack(\\\\\\'cmbQuadro\\\\\\',\\\\\\'\\\\\\')\\', 0)\" id=\"cmbQuadro\" showlabel=\"true\" style=\"width:50%;\">\\n\\t<option value=\"frmDemonstracaoFinanceiraITR.aspx?Informacao=1&amp;Demonstracao=2&amp;Periodo=0&amp;Grupo=DFs+Individuais&amp;Quadro=Balan%c3%a7o+Patrimonial+Ativo&amp;NomeTipoDocumento=ITR&amp;Empresa=524 PARTICIPACOES S.A.&amp;DataReferencia=2020-09-30&amp;Versao=1\">Balanço Patrimonial Ativo</option>\\n\\t<option value=\"frmDemonstracaoFinanceiraITR.aspx?Informacao=1&amp;Demonstracao=3&amp;Periodo=0&amp;Grupo=DFs+Individuais&amp;Quadro=Balan%c3%a7o+Patrimonial+Passivo&amp;NomeTipoDocumento=ITR&amp;Empresa=524 PARTICIPACOES S.A.&amp;DataReferencia=2020-09-30&amp;Versao=1\">Balanço Patrimonial Passivo</option>\\n\\t<option selected=\"selected\" value=\"frmDemonstracaoFinanceiraITR.aspx?Informacao=1&amp;Demonstracao=4&amp;Periodo=0&amp;Grupo=DFs+Individuais&amp;Quadro=Demonstra%c3%a7%c3%a3o+do+Resultado&amp;NomeTipoDocumento=ITR&amp;Empresa=524 PARTICIPACOES S.A.&amp;DataReferencia=2020-09-30&amp;Versao=1\">Demonstração do Resultado</option>\\n\\t<option value=\"frmDemonstracaoFinanceiraITR.aspx?Informacao=1&amp;Demonstracao=5&amp;Periodo=0&amp;Grupo=DFs+Individuais&amp;Quadro=Demonstra%c3%a7%c3%a3o+do+Resultado+Abrangente&amp;NomeTipoDocumento=ITR&amp;Empresa=524 PARTICIPACOES S.A.&amp;DataReferencia=2020-09-30&amp;Versao=1\">Demonstração do Resultado Abrangente</option>\\n\\t<option value=\"frmDemonstracaoFinanceiraITR.aspx?Informacao=1&amp;Demonstracao=99&amp;Periodo=0&amp;Grupo=DFs+Individuais&amp;Quadro=Demonstra%c3%a7%c3%a3o+do+Fluxo+de+Caixa&amp;NomeTipoDocumento=ITR&amp;Empresa=524 PARTICIPACOES S.A.&amp;DataReferencia=2020-09-30&amp;Versao=1\">Demonstração do Fluxo de Caixa</option>\\n\\t<option value=\"frmDemonstracaoFinanceiraITR.aspx?Informacao=100&amp;Demonstracao=8&amp;Periodo=4|6&amp;Grupo=DFs+Individuais&amp;Quadro=Demonstra%c3%a7%c3%a3o+das+Muta%c3%a7%c3%b5es+do+Patrim%c3%b4nio+L%c3%adquido&amp;NomeTipoDocumento=ITR&amp;Empresa=524 PARTICIPACOES S.A.&amp;DataReferencia=2020-09-30&amp;Versao=1\">Demonstração das Mutações do Patrimônio Líquido</option>\\n\\t<option value=\"frmDemonstracaoFinanceiraITR.aspx?Informacao=1&amp;Demonstracao=9&amp;Periodo=0&amp;Grupo=DFs+Individuais&amp;Quadro=Demonstra%c3%a7%c3%a3o+de+Valor+Adicionado&amp;NomeTipoDocumento=ITR&amp;Empresa=524 PARTICIPACOES S.A.&amp;DataReferencia=2020-09-30&amp;Versao=1\">Demonstração de Valor Adicionado</option>\\n\\n</select>\\n            </div>\\n            <iframe id=\"iFrameFormulariosFilho\" style=\"height: 95%; width: 100%; overflow: scroll;\" frameborder=\"0\" title=\"Empresas - Formulário de Referência\" height=\"80%\"></iframe>\\n        </div>\\n        <div id=\"divSplash\" style=\"display: none;\">\\n            <div id=\"divLoading\" style=\"height: 60px; width: 60px; left: 50%; position: absolute; transform: translateX(-50%); top: 400px; background: #FFFFFF url(img/loading.gif) no-repeat; -webkit-border-radius: 7px; -moz-border-radius: 7px; -ms-border-radius: 7px; border-radius: 7px;\">\\n            </div>\\n        </div>\\n         \\n    \\n<script src=\"https://www.google.com/recaptcha/api.js?render=6LdVyiwaAAAAABobBnLknCD5VGGkmH9snlJBxCyr\"></script><script src=\"https://www.google.com/recaptcha/api.js?render=6LeSyywaAAAAAGzZjvIaDntL8_Ht6aO7Gqt317x8\"></script>\\n<script type=\"text/javascript\">\\n//<![CDATA[\\nwindow.frames[0].location=\\'frmDemonstracaoFinanceiraITR.aspx?Informacao=1&Demonstracao=4&Periodo=0&Grupo=DFs+Individuais&Quadro=Demonstra%c3%a7%c3%a3o+do+Resultado&NomeTipoDocumento=ITR&Empresa=524 PARTICIPACOES S.A.&DataReferencia=2020-09-30&Versao=1&CodTipoDocumento=3&NumeroSequencialDocumento=98549&NumeroSequencialRegistroCvm=1414&CodigoTipoInstituicao=2&Hash=fjaJtrf9V8ELfB04iDzFulunSERtYVqQzIzhsmfqlg\\';//]]>\\n</script>\\n</form>\\n    <div id=\"dialog\">\\n            <iframe id=\"iFrameModal\" frameborder=\"0\"></iframe>\\n             \\n        </div>\\n\\n\\n<div><div class=\"grecaptcha-badge\" data-style=\"bottomright\" style=\"width: 256px; height: 60px; display: block; transition: right 0.3s ease 0s; position: fixed; bottom: 14px; right: -186px; box-shadow: gray 0px 0px 5px; border-radius: 2px; overflow: hidden;\"><div class=\"grecaptcha-logo\"><iframe src=\"https://www.google.com/recaptcha/api2/anchor?ar=1&amp;k=6LdVyiwaAAAAABobBnLknCD5VGGkmH9snlJBxCyr&amp;co=aHR0cHM6Ly93d3cucmFkLmN2bS5nb3YuYnI6NDQz&amp;hl=en&amp;v=jxFQ7RQ9s9HTGKeWcoa6UQdD&amp;size=invisible&amp;cb=uj1r2hscobse\" width=\"256\" height=\"60\" role=\"presentation\" name=\"a-8eb299ig0afx\" frameborder=\"0\" scrolling=\"no\" sandbox=\"allow-forms allow-popups allow-same-origin allow-scripts allow-top-navigation allow-modals allow-popups-to-escape-sandbox\"></iframe></div><div class=\"grecaptcha-error\"></div><textarea id=\"g-recaptcha-response-100000\" name=\"g-recaptcha-response\" class=\"g-recaptcha-response\" style=\"width: 250px; height: 40px; border: 1px solid rgb(193, 193, 193); margin: 10px 25px; padding: 0px; resize: none; display: none;\"></textarea></div><iframe style=\"display: none;\"></iframe></div></body></html>'"
      ]
     },
     "execution_count": 65,
     "metadata": {},
     "output_type": "execute_result"
    }
   ],
   "source": [
    "driver.page_source"
   ]
  },
  {
   "cell_type": "code",
   "execution_count": null,
   "metadata": {},
   "outputs": [],
   "source": []
  }
 ],
 "metadata": {
  "kernelspec": {
   "display_name": "Python 3",
   "language": "python",
   "name": "python3"
  },
  "language_info": {
   "codemirror_mode": {
    "name": "ipython",
    "version": 3
   },
   "file_extension": ".py",
   "mimetype": "text/x-python",
   "name": "python",
   "nbconvert_exporter": "python",
   "pygments_lexer": "ipython3",
   "version": "3.7.7"
  },
  "toc": {
   "base_numbering": 1,
   "nav_menu": {},
   "number_sections": true,
   "sideBar": true,
   "skip_h1_title": false,
   "title_cell": "Table of Contents",
   "title_sidebar": "Contents",
   "toc_cell": false,
   "toc_position": {},
   "toc_section_display": true,
   "toc_window_display": false
  },
  "varInspector": {
   "cols": {
    "lenName": 16,
    "lenType": 16,
    "lenVar": 40
   },
   "kernels_config": {
    "python": {
     "delete_cmd_postfix": "",
     "delete_cmd_prefix": "del ",
     "library": "var_list.py",
     "varRefreshCmd": "print(var_dic_list())"
    },
    "r": {
     "delete_cmd_postfix": ") ",
     "delete_cmd_prefix": "rm(",
     "library": "var_list.r",
     "varRefreshCmd": "cat(var_dic_list()) "
    }
   },
   "types_to_exclude": [
    "module",
    "function",
    "builtin_function_or_method",
    "instance",
    "_Feature"
   ],
   "window_display": false
  }
 },
 "nbformat": 4,
 "nbformat_minor": 4
}
